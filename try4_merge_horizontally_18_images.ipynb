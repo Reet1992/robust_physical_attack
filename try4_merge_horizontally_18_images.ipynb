{
 "cells": [
  {
   "cell_type": "code",
   "execution_count": 1,
   "metadata": {
    "collapsed": true
   },
   "outputs": [],
   "source": [
    "import scipy.io\n",
    "import numpy as np\n",
    "import pandas as pd\n",
    "import seaborn as sns\n",
    "import matplotlib.pyplot as plt\n",
    "from sklearn import datasets, svm, metrics"
   ]
  },
  {
   "cell_type": "code",
   "execution_count": 2,
   "metadata": {
    "collapsed": true
   },
   "outputs": [],
   "source": [
    "import matplotlib.pyplot as plt\n",
    "import matplotlib.image as mpimg\n",
    "import sklearn.datasets\n",
    "\n",
    "# 50,100,150 images are with stickers # 19,20 images are test images\n",
    "imug1 = mpimg.imread('50.png')\n",
    "imug2 = mpimg.imread('20.png')\n",
    "imug3 = mpimg.imread('100.png')\n",
    "imug4 = mpimg.imread('19.png')\n",
    "imug5 = mpimg.imread('150.png')\n",
    "imug7 = mpimg.imread('200.png')\n",
    "imug9 = mpimg.imread('250.png')\n",
    "imug11 = mpimg.imread('300.png')\n",
    "imug13 = mpimg.imread('350.png')\n",
    "imug15 = mpimg.imread('400.png')\n",
    "imug17 = mpimg.imread('75.png')\n",
    "imug19 = mpimg.imread('76.png')\n",
    "imug21 = mpimg.imread('77.png')\n",
    "imug23 = mpimg.imread('78.png')\n",
    "imug25 = mpimg.imread('79.png')\n",
    "imug27 = mpimg.imread('80.png')\n",
    "imug29 = mpimg.imread('81.png')\n",
    "imug31 = mpimg.imread('82.png')\n",
    "imug33 = mpimg.imread('83.png')\n",
    "imug35 = mpimg.imread('84.png')"
   ]
  },
  {
   "cell_type": "code",
   "execution_count": 3,
   "metadata": {},
   "outputs": [
    {
     "data": {
      "text/plain": [
       "(32, 32, 3)"
      ]
     },
     "execution_count": 3,
     "metadata": {},
     "output_type": "execute_result"
    }
   ],
   "source": [
    "from sklearn.linear_model import LinearRegression\n",
    "linear_regressor = LinearRegression()\n",
    "imug1.shape\n",
    "imug2.shape\n",
    "imug3.shape\n",
    "imug4.shape\n",
    "imug5.shape\n",
    "imug7.shape\n",
    "imug9.shape\n",
    "imug11.shape\n",
    "imug13.shape\n",
    "imug15.shape\n",
    "imug17.shape\n",
    "imug19.shape\n",
    "imug21.shape\n",
    "imug23.shape\n",
    "imug25.shape\n",
    "imug27.shape\n",
    "imug29.shape\n",
    "imug31.shape\n",
    "imug33.shape\n",
    "imug35.shape"
   ]
  },
  {
   "cell_type": "code",
   "execution_count": 4,
   "metadata": {
    "collapsed": true
   },
   "outputs": [],
   "source": [
    "imug1_new=imug1.transpose(2,0,1).reshape(3,-1)\n",
    "imug2_new=imug2.transpose(2,0,1).reshape(3,-1)\n",
    "imug3_new=imug3.transpose(2,0,1).reshape(3,-1)\n",
    "imug4_new=imug4.transpose(2,0,1).reshape(3,-1)\n",
    "imug5_new=imug5.transpose(2,0,1).reshape(3,-1)\n",
    "imug7_new=imug7.transpose(2,0,1).reshape(3,-1)\n",
    "imug9_new=imug9.transpose(2,0,1).reshape(3,-1)\n",
    "imug11_new=imug11.transpose(2,0,1).reshape(3,-1)\n",
    "imug13_new=imug13.transpose(2,0,1).reshape(3,-1)\n",
    "imug15_new=imug15.transpose(2,0,1).reshape(3,-1)\n",
    "imug17_new=imug17.transpose(2,0,1).reshape(3,-1)\n",
    "imug19_new=imug19.transpose(2,0,1).reshape(3,-1)\n",
    "imug21_new=imug21.transpose(2,0,1).reshape(3,-1)\n",
    "imug23_new=imug23.transpose(2,0,1).reshape(3,-1)\n",
    "imug25_new=imug25.transpose(2,0,1).reshape(3,-1)\n",
    "imug27_new=imug27.transpose(2,0,1).reshape(3,-1)\n",
    "imug29_new=imug29.transpose(2,0,1).reshape(3,-1)\n",
    "imug31_new=imug31.transpose(2,0,1).reshape(3,-1)\n",
    "imug33_new=imug33.transpose(2,0,1).reshape(3,-1)\n",
    "imug35_new=imug35.transpose(2,0,1).reshape(3,-1)"
   ]
  },
  {
   "cell_type": "code",
   "execution_count": 4,
   "metadata": {},
   "outputs": [
    {
     "name": "stdout",
     "output_type": "stream",
     "text": [
      "(3, 1024)\n",
      "(3, 1024)\n",
      "(3, 1024)\n",
      "(3, 1024)\n",
      "(3, 1024)\n",
      "(3, 1024)\n",
      "(3, 1024)\n",
      "(3, 1024)\n",
      "(3, 1024)\n",
      "(3, 1024)\n"
     ]
    }
   ],
   "source": [
    "print(imug1_new.shape)\n",
    "print(imug2_new.shape)\n",
    "print(imug3_new.shape)\n",
    "print(imug4_new.shape)\n",
    "print(imug5_new.shape)\n",
    "print(imug7_new.shape)\n",
    "print(imug9_new.shape)\n",
    "print(imug11_new.shape)\n",
    "print(imug13_new.shape)\n",
    "print(imug15_new.shape)"
   ]
  },
  {
   "cell_type": "code",
   "execution_count": 5,
   "metadata": {
    "collapsed": true
   },
   "outputs": [],
   "source": [
    "import pandas as pd\n",
    "train1=pd.DataFrame(imug1_new)\n",
    "train2=pd.DataFrame(imug3_new)\n",
    "train3=pd.DataFrame(imug5_new)\n",
    "train4=pd.DataFrame(imug7_new)\n",
    "train5=pd.DataFrame(imug9_new)\n",
    "train6=pd.DataFrame(imug11_new)\n",
    "train7=pd.DataFrame(imug13_new)\n",
    "train8=pd.DataFrame(imug15_new)\n",
    "train9=pd.DataFrame(imug17_new)\n",
    "train10=pd.DataFrame(imug19_new)\n",
    "train11=pd.DataFrame(imug21_new)\n",
    "train12=pd.DataFrame(imug23_new)\n",
    "train13=pd.DataFrame(imug25_new)\n",
    "train14=pd.DataFrame(imug27_new)\n",
    "train15=pd.DataFrame(imug29_new)\n",
    "train16=pd.DataFrame(imug31_new)\n",
    "train17=pd.DataFrame(imug33_new)\n",
    "train18=pd.DataFrame(imug35_new)\n",
    "test1=pd.DataFrame(imug2_new)\n",
    "test2=pd.DataFrame(imug4_new)"
   ]
  },
  {
   "cell_type": "code",
   "execution_count": 6,
   "metadata": {
    "collapsed": true
   },
   "outputs": [],
   "source": [
    "tf1 = train1.transpose()\n",
    "tf2 = train2.transpose()\n",
    "tf3 = train3.transpose()\n",
    "tf4 = train4.transpose()\n",
    "tf5 = train5.transpose()\n",
    "tf6 = train6.transpose()\n",
    "tf7 = train7.transpose()\n",
    "tf8 = train8.transpose()\n",
    "tf9 = train9.transpose()\n",
    "tf10 = train10.transpose()\n",
    "tf11 = train11.transpose()\n",
    "tf12 = train12.transpose()\n",
    "tf13 = train13.transpose()\n",
    "tf14 = train14.transpose()\n",
    "tf15 = train15.transpose()\n",
    "tf16 = train16.transpose()\n",
    "tf17 = train17.transpose()\n",
    "tf18 = train18.transpose()"
   ]
  },
  {
   "cell_type": "code",
   "execution_count": null,
   "metadata": {
    "collapsed": true
   },
   "outputs": [],
   "source": []
  },
  {
   "cell_type": "code",
   "execution_count": 7,
   "metadata": {},
   "outputs": [
    {
     "data": {
      "text/html": [
       "<div>\n",
       "<style>\n",
       "    .dataframe thead tr:only-child th {\n",
       "        text-align: right;\n",
       "    }\n",
       "\n",
       "    .dataframe thead th {\n",
       "        text-align: left;\n",
       "    }\n",
       "\n",
       "    .dataframe tbody tr th {\n",
       "        vertical-align: top;\n",
       "    }\n",
       "</style>\n",
       "<table border=\"1\" class=\"dataframe\">\n",
       "  <thead>\n",
       "    <tr style=\"text-align: right;\">\n",
       "      <th></th>\n",
       "      <th>0</th>\n",
       "      <th>1</th>\n",
       "      <th>2</th>\n",
       "    </tr>\n",
       "  </thead>\n",
       "  <tbody>\n",
       "    <tr>\n",
       "      <th>0</th>\n",
       "      <td>0.486275</td>\n",
       "      <td>0.556863</td>\n",
       "      <td>0.462745</td>\n",
       "    </tr>\n",
       "    <tr>\n",
       "      <th>1</th>\n",
       "      <td>0.490196</td>\n",
       "      <td>0.556863</td>\n",
       "      <td>0.462745</td>\n",
       "    </tr>\n",
       "    <tr>\n",
       "      <th>2</th>\n",
       "      <td>0.482353</td>\n",
       "      <td>0.552941</td>\n",
       "      <td>0.466667</td>\n",
       "    </tr>\n",
       "    <tr>\n",
       "      <th>3</th>\n",
       "      <td>0.478431</td>\n",
       "      <td>0.549020</td>\n",
       "      <td>0.462745</td>\n",
       "    </tr>\n",
       "    <tr>\n",
       "      <th>4</th>\n",
       "      <td>0.490196</td>\n",
       "      <td>0.552941</td>\n",
       "      <td>0.466667</td>\n",
       "    </tr>\n",
       "  </tbody>\n",
       "</table>\n",
       "</div>"
      ],
      "text/plain": [
       "          0         1         2\n",
       "0  0.486275  0.556863  0.462745\n",
       "1  0.490196  0.556863  0.462745\n",
       "2  0.482353  0.552941  0.466667\n",
       "3  0.478431  0.549020  0.462745\n",
       "4  0.490196  0.552941  0.466667"
      ]
     },
     "execution_count": 7,
     "metadata": {},
     "output_type": "execute_result"
    }
   ],
   "source": [
    "tt1 = test1.transpose()\n",
    "tt1.head()\n"
   ]
  },
  {
   "cell_type": "code",
   "execution_count": 8,
   "metadata": {},
   "outputs": [
    {
     "data": {
      "text/html": [
       "<div>\n",
       "<style>\n",
       "    .dataframe thead tr:only-child th {\n",
       "        text-align: right;\n",
       "    }\n",
       "\n",
       "    .dataframe thead th {\n",
       "        text-align: left;\n",
       "    }\n",
       "\n",
       "    .dataframe tbody tr th {\n",
       "        vertical-align: top;\n",
       "    }\n",
       "</style>\n",
       "<table border=\"1\" class=\"dataframe\">\n",
       "  <thead>\n",
       "    <tr style=\"text-align: right;\">\n",
       "      <th></th>\n",
       "      <th>0</th>\n",
       "      <th>1</th>\n",
       "      <th>2</th>\n",
       "    </tr>\n",
       "  </thead>\n",
       "  <tbody>\n",
       "    <tr>\n",
       "      <th>0</th>\n",
       "      <td>0.494118</td>\n",
       "      <td>0.568627</td>\n",
       "      <td>0.545098</td>\n",
       "    </tr>\n",
       "    <tr>\n",
       "      <th>1</th>\n",
       "      <td>0.454902</td>\n",
       "      <td>0.533333</td>\n",
       "      <td>0.521569</td>\n",
       "    </tr>\n",
       "    <tr>\n",
       "      <th>2</th>\n",
       "      <td>0.466667</td>\n",
       "      <td>0.541176</td>\n",
       "      <td>0.533333</td>\n",
       "    </tr>\n",
       "    <tr>\n",
       "      <th>3</th>\n",
       "      <td>0.447059</td>\n",
       "      <td>0.521569</td>\n",
       "      <td>0.505882</td>\n",
       "    </tr>\n",
       "    <tr>\n",
       "      <th>4</th>\n",
       "      <td>0.372549</td>\n",
       "      <td>0.454902</td>\n",
       "      <td>0.435294</td>\n",
       "    </tr>\n",
       "  </tbody>\n",
       "</table>\n",
       "</div>"
      ],
      "text/plain": [
       "          0         1         2\n",
       "0  0.494118  0.568627  0.545098\n",
       "1  0.454902  0.533333  0.521569\n",
       "2  0.466667  0.541176  0.533333\n",
       "3  0.447059  0.521569  0.505882\n",
       "4  0.372549  0.454902  0.435294"
      ]
     },
     "execution_count": 8,
     "metadata": {},
     "output_type": "execute_result"
    }
   ],
   "source": [
    "tt2 = test2.transpose()\n",
    "tt2.head()"
   ]
  },
  {
   "cell_type": "code",
   "execution_count": 9,
   "metadata": {
    "collapsed": true
   },
   "outputs": [],
   "source": [
    "tf2 = tf2.rename(columns = {0:3,1:4,2:5}) \n",
    "tf3 = tf3.rename(columns = {0:6,1:7,2:8})\n",
    "tf4 = tf4.rename(columns = {0:9,1:10,2:11})\n",
    "tf5 = tf5.rename(columns = {0:12,1:13,2:14}) \n",
    "tf6 = tf6.rename(columns = {0:15,1:16,2:17})\n",
    "tf7 = tf7.rename(columns = {0:18,1:19,2:20})\n",
    "tf8 = tf8.rename(columns = {0:21,1:22,2:23}) \n",
    "tf9 = tf9.rename(columns = {0:24,1:25,2:26})\n",
    "tf10 = tf10.rename(columns = {0:27,1:28,2:29})\n",
    "tf11 = tf11.rename(columns = {0:30,1:31,2:32}) \n",
    "tf12 = tf12.rename(columns = {0:33,1:34,2:35})\n",
    "tf13 = tf13.rename(columns = {0:36,1:37,2:38})\n",
    "tf14 = tf14.rename(columns = {0:39,1:40,2:41})\n",
    "tf15 = tf15.rename(columns = {0:42,1:43,2:44})\n",
    "tf16 = tf16.rename(columns = {0:45,1:46,2:47}) \n",
    "tf17 = tf17.rename(columns = {0:48,1:49,2:50})\n",
    "tf18 = tf18.rename(columns = {0:51,1:52,2:53})"
   ]
  },
  {
   "cell_type": "code",
   "execution_count": null,
   "metadata": {},
   "outputs": [],
   "source": []
  },
  {
   "cell_type": "code",
   "execution_count": 11,
   "metadata": {
    "collapsed": true
   },
   "outputs": [],
   "source": [
    "tf1_new = tf1"
   ]
  },
  {
   "cell_type": "code",
   "execution_count": 12,
   "metadata": {},
   "outputs": [
    {
     "data": {
      "text/html": [
       "<div>\n",
       "<style>\n",
       "    .dataframe thead tr:only-child th {\n",
       "        text-align: right;\n",
       "    }\n",
       "\n",
       "    .dataframe thead th {\n",
       "        text-align: left;\n",
       "    }\n",
       "\n",
       "    .dataframe tbody tr th {\n",
       "        vertical-align: top;\n",
       "    }\n",
       "</style>\n",
       "<table border=\"1\" class=\"dataframe\">\n",
       "  <thead>\n",
       "    <tr style=\"text-align: right;\">\n",
       "      <th></th>\n",
       "      <th>0</th>\n",
       "      <th>1</th>\n",
       "      <th>2</th>\n",
       "    </tr>\n",
       "  </thead>\n",
       "  <tbody>\n",
       "    <tr>\n",
       "      <th>0</th>\n",
       "      <td>0.600000</td>\n",
       "      <td>0.603922</td>\n",
       "      <td>0.556863</td>\n",
       "    </tr>\n",
       "    <tr>\n",
       "      <th>1</th>\n",
       "      <td>0.654902</td>\n",
       "      <td>0.588235</td>\n",
       "      <td>0.490196</td>\n",
       "    </tr>\n",
       "    <tr>\n",
       "      <th>2</th>\n",
       "      <td>0.815686</td>\n",
       "      <td>0.756863</td>\n",
       "      <td>0.654902</td>\n",
       "    </tr>\n",
       "    <tr>\n",
       "      <th>3</th>\n",
       "      <td>0.674510</td>\n",
       "      <td>0.658824</td>\n",
       "      <td>0.596078</td>\n",
       "    </tr>\n",
       "    <tr>\n",
       "      <th>4</th>\n",
       "      <td>0.768627</td>\n",
       "      <td>0.741176</td>\n",
       "      <td>0.666667</td>\n",
       "    </tr>\n",
       "  </tbody>\n",
       "</table>\n",
       "</div>"
      ],
      "text/plain": [
       "          0         1         2\n",
       "0  0.600000  0.603922  0.556863\n",
       "1  0.654902  0.588235  0.490196\n",
       "2  0.815686  0.756863  0.654902\n",
       "3  0.674510  0.658824  0.596078\n",
       "4  0.768627  0.741176  0.666667"
      ]
     },
     "execution_count": 12,
     "metadata": {},
     "output_type": "execute_result"
    }
   ],
   "source": [
    "tf1_new.head()"
   ]
  },
  {
   "cell_type": "code",
   "execution_count": 117,
   "metadata": {
    "collapsed": true
   },
   "outputs": [],
   "source": [
    "tf1_new[3] = tf2[3]\n",
    "tf1_new[4] = tf2[4]\n",
    "tf1_new[5] = tf2[5]\n",
    "tf1_new[6] = tf3[6]\n",
    "tf1_new[7] = tf3[7]\n",
    "tf1_new[8] = tf3[8]\n",
    "tf1_new[9] = tf4[9]\n",
    "tf1_new[10] = tf4[10]\n",
    "tf1_new[11] = tf4[11]\n",
    "\n",
    "tf1_new[12] = tf5[12]\n",
    "tf1_new[13] = tf5[13]\n",
    "tf1_new[14] = tf5[14]\n",
    "tf1_new[15] = tf6[15]\n",
    "tf1_new[16] = tf6[16]\n",
    "tf1_new[17] = tf6[17]\n",
    "tf1_new[18] = tf7[18]\n",
    "tf1_new[19] = tf7[19]\n",
    "tf1_new[20] = tf7[20]\n",
    "tf1_new[21] = tf8[21]\n",
    "tf1_new[22] = tf8[22]\n",
    "tf1_new[23] = tf8[23]\n",
    "tf1_new[24] = tf9[24]\n",
    "tf1_new[25] = tf9[25]\n",
    "tf1_new[26] = tf9[26]\n",
    "tf1_new[27] = tf10[27]\n",
    "tf1_new[28] = tf10[28]\n",
    "tf1_new[29] = tf10[29]\n",
    "tf1_new[30] = tf11[30]\n",
    "tf1_new[31] = tf11[31]\n",
    "tf1_new[32] = tf11[32]\n",
    "tf1_new[33] = tf12[33]\n",
    "tf1_new[34] = tf12[34]\n",
    "tf1_new[35] = tf12[35]\n",
    "tf1_new[36] = tf13[36]\n",
    "tf1_new[37] = tf13[37]\n",
    "tf1_new[38] = tf13[38]\n",
    "tf1_new[39] = tf14[39]\n",
    "tf1_new[40] = tf14[40]\n",
    "tf1_new[41] = tf14[41]\n",
    "tf1_new[42] = tf15[42]\n",
    "tf1_new[43] = tf15[43]\n",
    "tf1_new[44] = tf15[44]\n",
    "tf1_new[45] = tf16[45]\n",
    "tf1_new[46] = tf16[46]\n",
    "tf1_new[47] = tf16[47]\n",
    "tf1_new[48] = tf17[48]\n",
    "tf1_new[49] = tf17[49]\n",
    "tf1_new[50] = tf17[50]\n",
    "tf1_new[51] = tf18[51]\n",
    "tf1_new[52] = tf18[52]\n",
    "tf1_new[53] = tf18[53]"
   ]
  },
  {
   "cell_type": "code",
   "execution_count": null,
   "metadata": {
    "collapsed": true
   },
   "outputs": [],
   "source": []
  },
  {
   "cell_type": "code",
   "execution_count": null,
   "metadata": {
    "collapsed": true
   },
   "outputs": [],
   "source": []
  },
  {
   "cell_type": "code",
   "execution_count": 118,
   "metadata": {},
   "outputs": [
    {
     "data": {
      "text/html": [
       "<div>\n",
       "<style>\n",
       "    .dataframe thead tr:only-child th {\n",
       "        text-align: right;\n",
       "    }\n",
       "\n",
       "    .dataframe thead th {\n",
       "        text-align: left;\n",
       "    }\n",
       "\n",
       "    .dataframe tbody tr th {\n",
       "        vertical-align: top;\n",
       "    }\n",
       "</style>\n",
       "<table border=\"1\" class=\"dataframe\">\n",
       "  <thead>\n",
       "    <tr style=\"text-align: right;\">\n",
       "      <th></th>\n",
       "      <th>0</th>\n",
       "      <th>1</th>\n",
       "      <th>2</th>\n",
       "      <th>3</th>\n",
       "      <th>4</th>\n",
       "      <th>5</th>\n",
       "      <th>6</th>\n",
       "      <th>7</th>\n",
       "      <th>8</th>\n",
       "      <th>9</th>\n",
       "      <th>...</th>\n",
       "      <th>44</th>\n",
       "      <th>45</th>\n",
       "      <th>46</th>\n",
       "      <th>47</th>\n",
       "      <th>48</th>\n",
       "      <th>49</th>\n",
       "      <th>50</th>\n",
       "      <th>51</th>\n",
       "      <th>52</th>\n",
       "      <th>53</th>\n",
       "    </tr>\n",
       "  </thead>\n",
       "  <tbody>\n",
       "    <tr>\n",
       "      <th>0</th>\n",
       "      <td>0.600000</td>\n",
       "      <td>0.603922</td>\n",
       "      <td>0.556863</td>\n",
       "      <td>0.600000</td>\n",
       "      <td>0.603922</td>\n",
       "      <td>0.556863</td>\n",
       "      <td>0.600000</td>\n",
       "      <td>0.603922</td>\n",
       "      <td>0.556863</td>\n",
       "      <td>0.600000</td>\n",
       "      <td>...</td>\n",
       "      <td>0.556863</td>\n",
       "      <td>0.600000</td>\n",
       "      <td>0.603922</td>\n",
       "      <td>0.556863</td>\n",
       "      <td>0.600000</td>\n",
       "      <td>0.603922</td>\n",
       "      <td>0.556863</td>\n",
       "      <td>0.600000</td>\n",
       "      <td>0.603922</td>\n",
       "      <td>0.556863</td>\n",
       "    </tr>\n",
       "    <tr>\n",
       "      <th>1</th>\n",
       "      <td>0.654902</td>\n",
       "      <td>0.588235</td>\n",
       "      <td>0.490196</td>\n",
       "      <td>0.654902</td>\n",
       "      <td>0.588235</td>\n",
       "      <td>0.490196</td>\n",
       "      <td>0.654902</td>\n",
       "      <td>0.588235</td>\n",
       "      <td>0.490196</td>\n",
       "      <td>0.654902</td>\n",
       "      <td>...</td>\n",
       "      <td>0.490196</td>\n",
       "      <td>0.654902</td>\n",
       "      <td>0.588235</td>\n",
       "      <td>0.490196</td>\n",
       "      <td>0.654902</td>\n",
       "      <td>0.588235</td>\n",
       "      <td>0.490196</td>\n",
       "      <td>0.654902</td>\n",
       "      <td>0.588235</td>\n",
       "      <td>0.490196</td>\n",
       "    </tr>\n",
       "    <tr>\n",
       "      <th>2</th>\n",
       "      <td>0.815686</td>\n",
       "      <td>0.756863</td>\n",
       "      <td>0.654902</td>\n",
       "      <td>0.815686</td>\n",
       "      <td>0.756863</td>\n",
       "      <td>0.654902</td>\n",
       "      <td>0.815686</td>\n",
       "      <td>0.756863</td>\n",
       "      <td>0.654902</td>\n",
       "      <td>0.815686</td>\n",
       "      <td>...</td>\n",
       "      <td>0.654902</td>\n",
       "      <td>0.815686</td>\n",
       "      <td>0.756863</td>\n",
       "      <td>0.654902</td>\n",
       "      <td>0.815686</td>\n",
       "      <td>0.756863</td>\n",
       "      <td>0.654902</td>\n",
       "      <td>0.815686</td>\n",
       "      <td>0.756863</td>\n",
       "      <td>0.654902</td>\n",
       "    </tr>\n",
       "    <tr>\n",
       "      <th>3</th>\n",
       "      <td>0.674510</td>\n",
       "      <td>0.658824</td>\n",
       "      <td>0.596078</td>\n",
       "      <td>0.674510</td>\n",
       "      <td>0.658824</td>\n",
       "      <td>0.596078</td>\n",
       "      <td>0.674510</td>\n",
       "      <td>0.658824</td>\n",
       "      <td>0.596078</td>\n",
       "      <td>0.674510</td>\n",
       "      <td>...</td>\n",
       "      <td>0.596078</td>\n",
       "      <td>0.674510</td>\n",
       "      <td>0.658824</td>\n",
       "      <td>0.596078</td>\n",
       "      <td>0.674510</td>\n",
       "      <td>0.658824</td>\n",
       "      <td>0.596078</td>\n",
       "      <td>0.674510</td>\n",
       "      <td>0.658824</td>\n",
       "      <td>0.596078</td>\n",
       "    </tr>\n",
       "    <tr>\n",
       "      <th>4</th>\n",
       "      <td>0.768627</td>\n",
       "      <td>0.741176</td>\n",
       "      <td>0.666667</td>\n",
       "      <td>0.768627</td>\n",
       "      <td>0.741176</td>\n",
       "      <td>0.666667</td>\n",
       "      <td>0.768627</td>\n",
       "      <td>0.741176</td>\n",
       "      <td>0.666667</td>\n",
       "      <td>0.768627</td>\n",
       "      <td>...</td>\n",
       "      <td>0.666667</td>\n",
       "      <td>0.768627</td>\n",
       "      <td>0.741176</td>\n",
       "      <td>0.666667</td>\n",
       "      <td>0.768627</td>\n",
       "      <td>0.741176</td>\n",
       "      <td>0.666667</td>\n",
       "      <td>0.768627</td>\n",
       "      <td>0.741176</td>\n",
       "      <td>0.666667</td>\n",
       "    </tr>\n",
       "  </tbody>\n",
       "</table>\n",
       "<p>5 rows × 54 columns</p>\n",
       "</div>"
      ],
      "text/plain": [
       "         0         1         2         3         4         5         6   \\\n",
       "0  0.600000  0.603922  0.556863  0.600000  0.603922  0.556863  0.600000   \n",
       "1  0.654902  0.588235  0.490196  0.654902  0.588235  0.490196  0.654902   \n",
       "2  0.815686  0.756863  0.654902  0.815686  0.756863  0.654902  0.815686   \n",
       "3  0.674510  0.658824  0.596078  0.674510  0.658824  0.596078  0.674510   \n",
       "4  0.768627  0.741176  0.666667  0.768627  0.741176  0.666667  0.768627   \n",
       "\n",
       "         7         8         9     ...           44        45        46  \\\n",
       "0  0.603922  0.556863  0.600000    ...     0.556863  0.600000  0.603922   \n",
       "1  0.588235  0.490196  0.654902    ...     0.490196  0.654902  0.588235   \n",
       "2  0.756863  0.654902  0.815686    ...     0.654902  0.815686  0.756863   \n",
       "3  0.658824  0.596078  0.674510    ...     0.596078  0.674510  0.658824   \n",
       "4  0.741176  0.666667  0.768627    ...     0.666667  0.768627  0.741176   \n",
       "\n",
       "         47        48        49        50        51        52        53  \n",
       "0  0.556863  0.600000  0.603922  0.556863  0.600000  0.603922  0.556863  \n",
       "1  0.490196  0.654902  0.588235  0.490196  0.654902  0.588235  0.490196  \n",
       "2  0.654902  0.815686  0.756863  0.654902  0.815686  0.756863  0.654902  \n",
       "3  0.596078  0.674510  0.658824  0.596078  0.674510  0.658824  0.596078  \n",
       "4  0.666667  0.768627  0.741176  0.666667  0.768627  0.741176  0.666667  \n",
       "\n",
       "[5 rows x 54 columns]"
      ]
     },
     "execution_count": 118,
     "metadata": {},
     "output_type": "execute_result"
    }
   ],
   "source": [
    "tf1_new.head()"
   ]
  },
  {
   "cell_type": "code",
   "execution_count": 119,
   "metadata": {
    "collapsed": true
   },
   "outputs": [],
   "source": [
    "#### tf1_new = train_data and we can take here any one test data, here we are taking tt1"
   ]
  },
  {
   "cell_type": "code",
   "execution_count": 120,
   "metadata": {},
   "outputs": [
    {
     "data": {
      "text/plain": [
       "(1024, 54)"
      ]
     },
     "execution_count": 120,
     "metadata": {},
     "output_type": "execute_result"
    }
   ],
   "source": [
    "tf1_new.shape"
   ]
  },
  {
   "cell_type": "code",
   "execution_count": 121,
   "metadata": {},
   "outputs": [
    {
     "data": {
      "text/plain": [
       "(1024, 3)"
      ]
     },
     "execution_count": 121,
     "metadata": {},
     "output_type": "execute_result"
    }
   ],
   "source": [
    "tt1.shape"
   ]
  },
  {
   "cell_type": "code",
   "execution_count": 122,
   "metadata": {
    "collapsed": true
   },
   "outputs": [],
   "source": [
    "X_numpy = tf1_new.values\n",
    "Y_numpy = tt1.values"
   ]
  },
  {
   "cell_type": "code",
   "execution_count": 124,
   "metadata": {
    "collapsed": true
   },
   "outputs": [],
   "source": [
    "model = linear_regressor.fit(X_numpy, Y_numpy)\n",
    "Y_pred = linear_regressor.predict(X_numpy)"
   ]
  },
  {
   "cell_type": "code",
   "execution_count": 125,
   "metadata": {},
   "outputs": [
    {
     "data": {
      "text/plain": [
       "array([[0.5417015 , 0.61566   , 0.5883037 ],\n",
       "       [0.46605673, 0.49565983, 0.45174417],\n",
       "       [0.5387059 , 0.5833679 , 0.552822  ],\n",
       "       ...,\n",
       "       [0.230323  , 0.19909635, 0.10853131],\n",
       "       [0.21711946, 0.18870227, 0.09516063],\n",
       "       [0.22117525, 0.19573757, 0.10343052]], dtype=float32)"
      ]
     },
     "execution_count": 125,
     "metadata": {},
     "output_type": "execute_result"
    }
   ],
   "source": [
    "Y_pred"
   ]
  },
  {
   "cell_type": "code",
   "execution_count": 126,
   "metadata": {},
   "outputs": [
    {
     "data": {
      "text/plain": [
       "(1024, 3)"
      ]
     },
     "execution_count": 126,
     "metadata": {},
     "output_type": "execute_result"
    }
   ],
   "source": [
    "Y_pred.shape"
   ]
  },
  {
   "cell_type": "code",
   "execution_count": 127,
   "metadata": {},
   "outputs": [
    {
     "data": {
      "text/plain": [
       "(1024, 3)"
      ]
     },
     "execution_count": 127,
     "metadata": {},
     "output_type": "execute_result"
    }
   ],
   "source": [
    "Y_numpy.shape"
   ]
  },
  {
   "cell_type": "code",
   "execution_count": 128,
   "metadata": {},
   "outputs": [
    {
     "data": {
      "text/plain": [
       "array([0.34184927, 0.36257944, 0.29723918], dtype=float32)"
      ]
     },
     "execution_count": 128,
     "metadata": {},
     "output_type": "execute_result"
    }
   ],
   "source": [
    "model.intercept_"
   ]
  },
  {
   "cell_type": "code",
   "execution_count": 129,
   "metadata": {},
   "outputs": [
    {
     "data": {
      "text/plain": [
       "array([[-4.38859558e+02, -8.78479004e-01,  3.03813705e+01,\n",
       "         1.83511938e+03,  2.44069214e+01, -5.23159027e+01,\n",
       "        -1.87543237e+03, -2.49240265e+01,  2.54775085e+01,\n",
       "        -4.31256104e+00, -2.54507751e+01,  4.04495239e-01,\n",
       "         5.33518677e+01,  1.76267700e+01, -1.63786316e+01,\n",
       "         1.43752930e+02,  8.00091553e+01,  3.67835083e+01,\n",
       "         1.43269775e+02,  2.79351807e+00, -4.78631287e+01,\n",
       "         1.43274658e+02, -7.51535645e+01,  2.51712036e+01,\n",
       "         5.37942505e+00, -8.00182724e+00, -1.03260193e+01,\n",
       "        -3.55477905e+00,  3.73538971e+00,  6.45471191e+00,\n",
       "         2.66494751e+00, -2.76749802e+00,  6.15173340e-01,\n",
       "         1.55560303e+00,  5.85941315e+00,  8.40420532e+00,\n",
       "        -1.62881470e+00,  6.84267426e+00,  5.75775146e-01,\n",
       "         2.01364136e+00, -7.95572662e+00,  2.86309814e+00,\n",
       "         8.30352783e-01,  4.02838516e+00, -4.67474365e+00,\n",
       "        -5.91430664e-02, -8.74858093e+00, -2.99581909e+00,\n",
       "        -3.58984375e+00, -1.17799377e+00, -1.37026978e+00,\n",
       "        -3.03262329e+00,  7.18003464e+00,  1.14630127e+00],\n",
       "       [-2.94140808e+02,  4.33833313e+00,  4.86059570e+00,\n",
       "         1.28544873e+03,  1.98074417e+01, -2.90233612e+01,\n",
       "        -1.35549072e+03, -2.25012131e+01,  4.72877579e+01,\n",
       "         2.55702057e+01, -2.48783264e+01, -2.73283539e+01,\n",
       "         5.09394531e+01,  1.62951355e+01, -4.15487671e+00,\n",
       "         9.61889038e+01,  5.61928711e+01,  2.14911041e+01,\n",
       "         9.58421631e+01,  2.82031250e+00, -3.71971741e+01,\n",
       "         9.58455200e+01, -5.10750427e+01,  2.31151123e+01,\n",
       "        -2.16867065e+00, -4.43803024e+00, -1.43894958e+00,\n",
       "         4.62722778e+00,  1.88472061e+01,  1.12077332e+01,\n",
       "        -1.50640869e+00, -1.47428379e+01, -2.92103577e+00,\n",
       "         4.73535156e+00,  1.39987488e+01, -1.82789612e+00,\n",
       "        -1.95468140e+00, -4.88565063e+00,  6.32882690e+00,\n",
       "         3.47613525e+00, -1.06834011e+01, -1.43115234e+00,\n",
       "         1.11352539e+00, -6.90898895e+00, -1.05271454e+01,\n",
       "        -2.72875977e+00,  5.51135254e+00, -2.25016785e+00,\n",
       "        -4.52255249e+00,  3.03176498e+00,  4.07284546e+00,\n",
       "        -1.88876343e+00, -9.43439484e-01,  1.08448792e+00],\n",
       "       [-3.79885986e+02,  4.79471970e+00,  1.08545837e+01,\n",
       "         1.64918164e+03,  1.56327972e+01, -3.75223236e+01,\n",
       "        -1.73095654e+03, -1.67954636e+01,  4.83974457e+01,\n",
       "         2.58353882e+01, -2.80087280e+01, -2.43530731e+01,\n",
       "         6.55239868e+01,  1.89634094e+01, -9.55776978e+00,\n",
       "         1.23798279e+02,  6.82032471e+01,  3.07001648e+01,\n",
       "         1.23353699e+02,  2.23382568e+00, -4.73473206e+01,\n",
       "         1.23358032e+02, -6.44010620e+01,  2.82756653e+01,\n",
       "        -1.11090088e+00, -5.57503510e+00, -3.51788330e+00,\n",
       "         4.09680176e+00,  1.92125778e+01,  1.37126160e+01,\n",
       "        -1.05072021e+00, -1.35947495e+01, -4.57119751e+00,\n",
       "         5.07254028e+00,  1.47367249e+01,  5.52398682e-01,\n",
       "        -1.32620239e+00, -1.59334564e+00,  6.98281860e+00,\n",
       "         3.12542725e+00, -1.50301285e+01, -1.17071533e+00,\n",
       "         1.50961304e+00, -5.10240936e+00, -1.12809143e+01,\n",
       "        -3.01205444e+00,  3.06397247e+00, -2.66119385e+00,\n",
       "        -6.78375244e+00,  2.17746735e+00,  3.20223999e+00,\n",
       "        -1.26586914e+00,  4.87792969e-01,  1.04995728e+00]], dtype=float32)"
      ]
     },
     "execution_count": 129,
     "metadata": {},
     "output_type": "execute_result"
    }
   ],
   "source": [
    "model.coef_"
   ]
  },
  {
   "cell_type": "code",
   "execution_count": 130,
   "metadata": {},
   "outputs": [
    {
     "name": "stdout",
     "output_type": "stream",
     "text": [
      "0.10965239\n"
     ]
    }
   ],
   "source": [
    "import sklearn\n",
    "from sklearn import metrics\n",
    "import numpy as np\n",
    "test_rmse= np.sqrt(metrics.mean_squared_error(Y_pred,Y_numpy))\n",
    "print(test_rmse)"
   ]
  },
  {
   "cell_type": "code",
   "execution_count": 131,
   "metadata": {},
   "outputs": [
    {
     "data": {
      "text/plain": [
       "array([[0., 1., 0.],\n",
       "       [0., 0., 0.],\n",
       "       [0., 0., 0.],\n",
       "       ...,\n",
       "       [0., 0., 0.],\n",
       "       [0., 0., 0.],\n",
       "       [0., 0., 0.]], dtype=float32)"
      ]
     },
     "execution_count": 131,
     "metadata": {},
     "output_type": "execute_result"
    }
   ],
   "source": [
    "cutoff = 0.6\n",
    "y_pred_classes = np.zeros_like(Y_pred)\n",
    "y_pred_classes[Y_pred > cutoff] = 1\n",
    "\n",
    "y_pred_classes"
   ]
  },
  {
   "cell_type": "code",
   "execution_count": 132,
   "metadata": {},
   "outputs": [
    {
     "data": {
      "text/plain": [
       "array([[0., 0., 0.],\n",
       "       [0., 0., 0.],\n",
       "       [0., 0., 0.],\n",
       "       ...,\n",
       "       [0., 0., 0.],\n",
       "       [0., 0., 0.],\n",
       "       [0., 0., 0.]], dtype=float32)"
      ]
     },
     "execution_count": 132,
     "metadata": {},
     "output_type": "execute_result"
    }
   ],
   "source": [
    "y_test_classes = np.zeros_like(Y_numpy)\n",
    "y_test_classes[Y_numpy > cutoff] = 1\n",
    "\n",
    "y_test_classes"
   ]
  },
  {
   "cell_type": "code",
   "execution_count": 133,
   "metadata": {
    "collapsed": true
   },
   "outputs": [],
   "source": [
    "y_pred_classes_df=pd.DataFrame(y_pred_classes)\n",
    "y_test_classes_df=pd.DataFrame(y_test_classes)"
   ]
  },
  {
   "cell_type": "code",
   "execution_count": 134,
   "metadata": {},
   "outputs": [
    {
     "name": "stdout",
     "output_type": "stream",
     "text": [
      "0    167\n",
      "1    167\n",
      "2    167\n",
      "dtype: int64\n"
     ]
    }
   ],
   "source": [
    "pattern_count_test = y_test_classes_df[(y_test_classes_df[0]== 0) & (y_test_classes_df[1] == 0) & (y_test_classes_df[2] == 0)].count()\n",
    "\n",
    "y_test_classes_df.rename(columns = {0:'R', 1:'G',2:'B'}, inplace = True)\n",
    "\n",
    "\n",
    "print(pattern_count_test)"
   ]
  },
  {
   "cell_type": "code",
   "execution_count": 135,
   "metadata": {},
   "outputs": [
    {
     "data": {
      "text/plain": [
       "array([[962,   8],\n",
       "       [ 52,   2]], dtype=int64)"
      ]
     },
     "execution_count": 135,
     "metadata": {},
     "output_type": "execute_result"
    }
   ],
   "source": [
    "from sklearn.metrics import confusion_matrix\n",
    "cm = confusion_matrix(y_pred_classes.argmax(axis=1), y_test_classes.argmax(axis=1))\n",
    "cm"
   ]
  },
  {
   "cell_type": "code",
   "execution_count": 136,
   "metadata": {},
   "outputs": [
    {
     "data": {
      "image/png": "[encoded data removed]",
      "text/plain": [
       "<Figure size 288x288 with 2 Axes>"
      ]
     },
     "metadata": {},
     "output_type": "display_data"
    }
   ],
   "source": [
    "plt.matshow(cm)\n",
    "plt.title('Confusion matrix')\n",
    "plt.colorbar()\n",
    "plt.ylabel('True label')\n",
    "plt.xlabel('Predicted label')\n",
    "plt.show()"
   ]
  },
  {
   "cell_type": "code",
   "execution_count": 137,
   "metadata": {
    "collapsed": true
   },
   "outputs": [],
   "source": [
    "import os.path\n",
    "import numpy as np\n",
    "from PIL import Image\n",
    "\n",
    "len(y_pred_classes.shape)\n",
    "\n",
    "#img = Image.fromarray(Y_pred2, 'RGB')\n",
    "final_image_array = np.resize(Y_pred,(32,32,3))\n",
    "\n",
    "img = Image.fromarray(final_image_array, 'RGB')\n",
    "img.show()"
   ]
  },
  {
   "cell_type": "code",
   "execution_count": 58,
   "metadata": {
    "collapsed": true
   },
   "outputs": [],
   "source": [
    "#### learning curve#######"
   ]
  },
  {
   "cell_type": "code",
   "execution_count": 138,
   "metadata": {
    "collapsed": true
   },
   "outputs": [],
   "source": [
    "from sklearn.linear_model import Ridge\n",
    "from sklearn.model_selection import validation_curve\n",
    "train_scores, valid_scores = validation_curve(Ridge(), y_test_classes, y_pred_classes, \"alpha\",np.logspace(-7, 3, 3),cv=5)"
   ]
  },
  {
   "cell_type": "code",
   "execution_count": 139,
   "metadata": {},
   "outputs": [
    {
     "data": {
      "text/plain": [
       "array([[0.59118379, 0.56957056, 0.54594436, 0.57383783, 0.60355455],\n",
       "       [0.59118373, 0.56957052, 0.54594434, 0.57383782, 0.6035545 ],\n",
       "       [0.17683825, 0.16168474, 0.14224197, 0.16079286, 0.17322508]])"
      ]
     },
     "execution_count": 139,
     "metadata": {},
     "output_type": "execute_result"
    }
   ],
   "source": [
    "train_scores"
   ]
  },
  {
   "cell_type": "code",
   "execution_count": 140,
   "metadata": {},
   "outputs": [
    {
     "data": {
      "text/plain": [
       "array([[ 0.42146134,  0.56894607,  0.63857321,  0.55945048,  0.39336511],\n",
       "       [ 0.42169719,  0.56898722,  0.6385854 ,  0.55945108,  0.39347457],\n",
       "       [-0.03420939,  0.10909238,  0.05289463,  0.14796651,  0.03086926]])"
      ]
     },
     "execution_count": 140,
     "metadata": {},
     "output_type": "execute_result"
    }
   ],
   "source": [
    "valid_scores"
   ]
  },
  {
   "cell_type": "code",
   "execution_count": 141,
   "metadata": {
    "collapsed": true
   },
   "outputs": [],
   "source": [
    "train_scores_mean = np.mean(train_scores, axis=1)\n",
    "train_scores_std = np.std(train_scores, axis=1)\n",
    "valid_scores_mean = np.mean(valid_scores, axis=1)\n",
    "valid_scores_std = np.std(valid_scores, axis=1)"
   ]
  },
  {
   "cell_type": "code",
   "execution_count": 142,
   "metadata": {},
   "outputs": [
    {
     "data": {
      "image/png": "[encoded data removed]",
      "text/plain": [
       "<Figure size 432x288 with 1 Axes>"
      ]
     },
     "metadata": {},
     "output_type": "display_data"
    },
    {
     "data": {
      "image/png": "[encoded data removed]",
      "text/plain": [
       "<Figure size 432x288 with 1 Axes>"
      ]
     },
     "metadata": {},
     "output_type": "display_data"
    }
   ],
   "source": [
    "param_range = np.arange(1,3,5)\n",
    "plt.fill_between(param_range, train_scores_mean - train_scores_std, train_scores_mean + train_scores_std, color=\"gray\")\n",
    "plt.show()\n",
    "plt.fill_between(param_range, valid_scores_mean - valid_scores_std, valid_scores_mean + valid_scores_std, color=\"gainsboro\")\n",
    "plt.show()"
   ]
  },
  {
   "cell_type": "code",
   "execution_count": 143,
   "metadata": {},
   "outputs": [
    {
     "data": {
      "text/plain": [
       "0.4386888531670992"
      ]
     },
     "execution_count": 143,
     "metadata": {},
     "output_type": "execute_result"
    }
   ],
   "source": [
    "from sklearn.metrics import r2_score\n",
    "r2_score(y_test_classes,y_pred_classes)"
   ]
  },
  {
   "cell_type": "code",
   "execution_count": null,
   "metadata": {},
   "outputs": [],
   "source": []
  },
  {
   "cell_type": "code",
   "execution_count": null,
   "metadata": {
    "collapsed": true
   },
   "outputs": [],
   "source": []
  }
 ],
 "metadata": {
  "kernelspec": {
   "display_name": "Python 3",
   "language": "python",
   "name": "python3"
  },
  "language_info": {
   "codemirror_mode": {
    "name": "ipython",
    "version": 3
   },
   "file_extension": ".py",
   "mimetype": "text/x-python",
   "name": "python",
   "nbconvert_exporter": "python",
   "pygments_lexer": "ipython3",
   "version": "3.6.3"
  }
 },
 "nbformat": 4,
 "nbformat_minor": 2
}
