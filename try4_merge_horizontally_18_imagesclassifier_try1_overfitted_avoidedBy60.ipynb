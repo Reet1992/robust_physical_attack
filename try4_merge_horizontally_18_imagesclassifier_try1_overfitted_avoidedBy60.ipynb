{
 "cells": [
  {
   "cell_type": "code",
   "execution_count": 39,
   "metadata": {
    "collapsed": true
   },
   "outputs": [],
   "source": [
    "import scipy.io\n",
    "import numpy as np\n",
    "import pandas as pd\n",
    "import seaborn as sns\n",
    "import matplotlib.pyplot as plt\n",
    "from sklearn import datasets, svm, metrics"
   ]
  },
  {
   "cell_type": "code",
   "execution_count": 94,
   "metadata": {
    "collapsed": true
   },
   "outputs": [],
   "source": [
    "import matplotlib.pyplot as plt\n",
    "import matplotlib.image as mpimg\n",
    "import sklearn.datasets\n",
    "\n",
    "# 50,100,150 images are with stickers # 19,20 images are test images\n",
    "imug1 = mpimg.imread('50.png')\n",
    "imug2 = mpimg.imread('20.png')\n",
    "imug3 = mpimg.imread('100.png')\n",
    "imug4 = mpimg.imread('19.png')\n",
    "imug5 = mpimg.imread('150.png')"
   ]
  },
  {
   "cell_type": "code",
   "execution_count": 95,
   "metadata": {},
   "outputs": [
    {
     "data": {
      "text/plain": [
       "(32, 32, 3)"
      ]
     },
     "execution_count": 95,
     "metadata": {},
     "output_type": "execute_result"
    }
   ],
   "source": [
    "from sklearn.linear_model import LinearRegression\n",
    "linear_regressor = LinearRegression()\n",
    "imug1.shape\n",
    "imug2.shape\n",
    "imug3.shape\n",
    "imug4.shape\n",
    "imug5.shape"
   ]
  },
  {
   "cell_type": "code",
   "execution_count": 96,
   "metadata": {
    "collapsed": true
   },
   "outputs": [],
   "source": [
    "imug1_new=imug1.transpose(2,0,1).reshape(3,-1)\n",
    "imug2_new=imug2.transpose(2,0,1).reshape(3,-1)\n",
    "imug3_new=imug3.transpose(2,0,1).reshape(3,-1)\n",
    "imug4_new=imug4.transpose(2,0,1).reshape(3,-1)\n",
    "imug5_new=imug5.transpose(2,0,1).reshape(3,-1)"
   ]
  },
  {
   "cell_type": "code",
   "execution_count": 97,
   "metadata": {},
   "outputs": [
    {
     "name": "stdout",
     "output_type": "stream",
     "text": [
      "(3, 1024)\n",
      "(3, 1024)\n",
      "(3, 1024)\n",
      "(3, 1024)\n",
      "(3, 1024)\n"
     ]
    }
   ],
   "source": [
    "print(imug1_new.shape)\n",
    "print(imug2_new.shape)\n",
    "print(imug3_new.shape)\n",
    "print(imug4_new.shape)\n",
    "print(imug5_new.shape)"
   ]
  },
  {
   "cell_type": "code",
   "execution_count": 98,
   "metadata": {
    "collapsed": true
   },
   "outputs": [],
   "source": [
    "import pandas as pd\n",
    "train1=pd.DataFrame(imug1_new)\n",
    "train2=pd.DataFrame(imug3_new)\n",
    "train3 = pd.DataFrame(imug5_new)\n",
    "\n",
    "test1=pd.DataFrame(imug2_new)\n",
    "test2=pd.DataFrame(imug4_new)"
   ]
  },
  {
   "cell_type": "code",
   "execution_count": 99,
   "metadata": {
    "collapsed": true
   },
   "outputs": [],
   "source": [
    "tf1 = train1.transpose()\n",
    "tf2 = train2.transpose()\n",
    "tf3 = train3.transpose()"
   ]
  },
  {
   "cell_type": "code",
   "execution_count": 100,
   "metadata": {},
   "outputs": [
    {
     "data": {
      "text/html": [
       "<div>\n",
       "<style>\n",
       "    .dataframe thead tr:only-child th {\n",
       "        text-align: right;\n",
       "    }\n",
       "\n",
       "    .dataframe thead th {\n",
       "        text-align: left;\n",
       "    }\n",
       "\n",
       "    .dataframe tbody tr th {\n",
       "        vertical-align: top;\n",
       "    }\n",
       "</style>\n",
       "<table border=\"1\" class=\"dataframe\">\n",
       "  <thead>\n",
       "    <tr style=\"text-align: right;\">\n",
       "      <th></th>\n",
       "      <th>0</th>\n",
       "      <th>1</th>\n",
       "      <th>2</th>\n",
       "    </tr>\n",
       "  </thead>\n",
       "  <tbody>\n",
       "    <tr>\n",
       "      <th>0</th>\n",
       "      <td>0.600000</td>\n",
       "      <td>0.603922</td>\n",
       "      <td>0.556863</td>\n",
       "    </tr>\n",
       "    <tr>\n",
       "      <th>1</th>\n",
       "      <td>0.654902</td>\n",
       "      <td>0.588235</td>\n",
       "      <td>0.490196</td>\n",
       "    </tr>\n",
       "    <tr>\n",
       "      <th>2</th>\n",
       "      <td>0.815686</td>\n",
       "      <td>0.756863</td>\n",
       "      <td>0.654902</td>\n",
       "    </tr>\n",
       "    <tr>\n",
       "      <th>3</th>\n",
       "      <td>0.674510</td>\n",
       "      <td>0.658824</td>\n",
       "      <td>0.596078</td>\n",
       "    </tr>\n",
       "    <tr>\n",
       "      <th>4</th>\n",
       "      <td>0.768627</td>\n",
       "      <td>0.741176</td>\n",
       "      <td>0.666667</td>\n",
       "    </tr>\n",
       "  </tbody>\n",
       "</table>\n",
       "</div>"
      ],
      "text/plain": [
       "          0         1         2\n",
       "0  0.600000  0.603922  0.556863\n",
       "1  0.654902  0.588235  0.490196\n",
       "2  0.815686  0.756863  0.654902\n",
       "3  0.674510  0.658824  0.596078\n",
       "4  0.768627  0.741176  0.666667"
      ]
     },
     "execution_count": 100,
     "metadata": {},
     "output_type": "execute_result"
    }
   ],
   "source": [
    "tf3.head()\n"
   ]
  },
  {
   "cell_type": "code",
   "execution_count": 101,
   "metadata": {
    "collapsed": true
   },
   "outputs": [],
   "source": [
    "tf1[3] = tf3[0]\n",
    "tf1[4] = tf3[1]\n",
    "tf1[5] = tf3[2]\n",
    "\n",
    "tf2[3] = tf3[0]\n",
    "tf2[4] = tf3[1]\n",
    "tf2[5] = tf3[2]\n",
    "#tf1_new[55] = tf18[52]\n",
    "#tf1_new[56] = tf18[53]"
   ]
  },
  {
   "cell_type": "code",
   "execution_count": 105,
   "metadata": {},
   "outputs": [
    {
     "data": {
      "text/html": [
       "<div>\n",
       "<style>\n",
       "    .dataframe thead tr:only-child th {\n",
       "        text-align: right;\n",
       "    }\n",
       "\n",
       "    .dataframe thead th {\n",
       "        text-align: left;\n",
       "    }\n",
       "\n",
       "    .dataframe tbody tr th {\n",
       "        vertical-align: top;\n",
       "    }\n",
       "</style>\n",
       "<table border=\"1\" class=\"dataframe\">\n",
       "  <thead>\n",
       "    <tr style=\"text-align: right;\">\n",
       "      <th></th>\n",
       "      <th>0</th>\n",
       "      <th>1</th>\n",
       "      <th>2</th>\n",
       "      <th>3</th>\n",
       "      <th>4</th>\n",
       "      <th>5</th>\n",
       "    </tr>\n",
       "  </thead>\n",
       "  <tbody>\n",
       "    <tr>\n",
       "      <th>0</th>\n",
       "      <td>0.600000</td>\n",
       "      <td>0.603922</td>\n",
       "      <td>0.556863</td>\n",
       "      <td>0.600000</td>\n",
       "      <td>0.603922</td>\n",
       "      <td>0.556863</td>\n",
       "    </tr>\n",
       "    <tr>\n",
       "      <th>1</th>\n",
       "      <td>0.654902</td>\n",
       "      <td>0.588235</td>\n",
       "      <td>0.490196</td>\n",
       "      <td>0.654902</td>\n",
       "      <td>0.588235</td>\n",
       "      <td>0.490196</td>\n",
       "    </tr>\n",
       "    <tr>\n",
       "      <th>2</th>\n",
       "      <td>0.815686</td>\n",
       "      <td>0.756863</td>\n",
       "      <td>0.654902</td>\n",
       "      <td>0.815686</td>\n",
       "      <td>0.756863</td>\n",
       "      <td>0.654902</td>\n",
       "    </tr>\n",
       "    <tr>\n",
       "      <th>3</th>\n",
       "      <td>0.674510</td>\n",
       "      <td>0.658824</td>\n",
       "      <td>0.596078</td>\n",
       "      <td>0.674510</td>\n",
       "      <td>0.658824</td>\n",
       "      <td>0.596078</td>\n",
       "    </tr>\n",
       "    <tr>\n",
       "      <th>4</th>\n",
       "      <td>0.768627</td>\n",
       "      <td>0.741176</td>\n",
       "      <td>0.666667</td>\n",
       "      <td>0.768627</td>\n",
       "      <td>0.741176</td>\n",
       "      <td>0.666667</td>\n",
       "    </tr>\n",
       "  </tbody>\n",
       "</table>\n",
       "</div>"
      ],
      "text/plain": [
       "          0         1         2         3         4         5\n",
       "0  0.600000  0.603922  0.556863  0.600000  0.603922  0.556863\n",
       "1  0.654902  0.588235  0.490196  0.654902  0.588235  0.490196\n",
       "2  0.815686  0.756863  0.654902  0.815686  0.756863  0.654902\n",
       "3  0.674510  0.658824  0.596078  0.674510  0.658824  0.596078\n",
       "4  0.768627  0.741176  0.666667  0.768627  0.741176  0.666667"
      ]
     },
     "execution_count": 105,
     "metadata": {},
     "output_type": "execute_result"
    }
   ],
   "source": [
    "tf2.head()"
   ]
  },
  {
   "cell_type": "code",
   "execution_count": 102,
   "metadata": {},
   "outputs": [
    {
     "data": {
      "text/html": [
       "<div>\n",
       "<style>\n",
       "    .dataframe thead tr:only-child th {\n",
       "        text-align: right;\n",
       "    }\n",
       "\n",
       "    .dataframe thead th {\n",
       "        text-align: left;\n",
       "    }\n",
       "\n",
       "    .dataframe tbody tr th {\n",
       "        vertical-align: top;\n",
       "    }\n",
       "</style>\n",
       "<table border=\"1\" class=\"dataframe\">\n",
       "  <thead>\n",
       "    <tr style=\"text-align: right;\">\n",
       "      <th></th>\n",
       "      <th>0</th>\n",
       "      <th>1</th>\n",
       "      <th>2</th>\n",
       "    </tr>\n",
       "  </thead>\n",
       "  <tbody>\n",
       "    <tr>\n",
       "      <th>0</th>\n",
       "      <td>0.494118</td>\n",
       "      <td>0.568627</td>\n",
       "      <td>0.545098</td>\n",
       "    </tr>\n",
       "    <tr>\n",
       "      <th>1</th>\n",
       "      <td>0.454902</td>\n",
       "      <td>0.533333</td>\n",
       "      <td>0.521569</td>\n",
       "    </tr>\n",
       "    <tr>\n",
       "      <th>2</th>\n",
       "      <td>0.466667</td>\n",
       "      <td>0.541176</td>\n",
       "      <td>0.533333</td>\n",
       "    </tr>\n",
       "    <tr>\n",
       "      <th>3</th>\n",
       "      <td>0.447059</td>\n",
       "      <td>0.521569</td>\n",
       "      <td>0.505882</td>\n",
       "    </tr>\n",
       "    <tr>\n",
       "      <th>4</th>\n",
       "      <td>0.372549</td>\n",
       "      <td>0.454902</td>\n",
       "      <td>0.435294</td>\n",
       "    </tr>\n",
       "  </tbody>\n",
       "</table>\n",
       "</div>"
      ],
      "text/plain": [
       "          0         1         2\n",
       "0  0.494118  0.568627  0.545098\n",
       "1  0.454902  0.533333  0.521569\n",
       "2  0.466667  0.541176  0.533333\n",
       "3  0.447059  0.521569  0.505882\n",
       "4  0.372549  0.454902  0.435294"
      ]
     },
     "execution_count": 102,
     "metadata": {},
     "output_type": "execute_result"
    }
   ],
   "source": [
    "tt1 = test1.transpose()\n",
    "tt1.head()\n",
    "tt2 = test2.transpose()\n",
    "tt2.head()"
   ]
  },
  {
   "cell_type": "code",
   "execution_count": null,
   "metadata": {},
   "outputs": [],
   "source": []
  },
  {
   "cell_type": "code",
   "execution_count": 10,
   "metadata": {
    "collapsed": true
   },
   "outputs": [],
   "source": []
  },
  {
   "cell_type": "code",
   "execution_count": null,
   "metadata": {
    "collapsed": true
   },
   "outputs": [],
   "source": []
  },
  {
   "cell_type": "code",
   "execution_count": 106,
   "metadata": {
    "collapsed": true
   },
   "outputs": [],
   "source": [
    "tf1_new = tf1"
   ]
  },
  {
   "cell_type": "code",
   "execution_count": 107,
   "metadata": {},
   "outputs": [
    {
     "data": {
      "text/html": [
       "<div>\n",
       "<style>\n",
       "    .dataframe thead tr:only-child th {\n",
       "        text-align: right;\n",
       "    }\n",
       "\n",
       "    .dataframe thead th {\n",
       "        text-align: left;\n",
       "    }\n",
       "\n",
       "    .dataframe tbody tr th {\n",
       "        vertical-align: top;\n",
       "    }\n",
       "</style>\n",
       "<table border=\"1\" class=\"dataframe\">\n",
       "  <thead>\n",
       "    <tr style=\"text-align: right;\">\n",
       "      <th></th>\n",
       "      <th>0</th>\n",
       "      <th>1</th>\n",
       "      <th>2</th>\n",
       "      <th>3</th>\n",
       "      <th>4</th>\n",
       "      <th>5</th>\n",
       "    </tr>\n",
       "  </thead>\n",
       "  <tbody>\n",
       "    <tr>\n",
       "      <th>0</th>\n",
       "      <td>0.600000</td>\n",
       "      <td>0.603922</td>\n",
       "      <td>0.556863</td>\n",
       "      <td>0.600000</td>\n",
       "      <td>0.603922</td>\n",
       "      <td>0.556863</td>\n",
       "    </tr>\n",
       "    <tr>\n",
       "      <th>1</th>\n",
       "      <td>0.654902</td>\n",
       "      <td>0.588235</td>\n",
       "      <td>0.490196</td>\n",
       "      <td>0.654902</td>\n",
       "      <td>0.588235</td>\n",
       "      <td>0.490196</td>\n",
       "    </tr>\n",
       "    <tr>\n",
       "      <th>2</th>\n",
       "      <td>0.815686</td>\n",
       "      <td>0.756863</td>\n",
       "      <td>0.654902</td>\n",
       "      <td>0.815686</td>\n",
       "      <td>0.756863</td>\n",
       "      <td>0.654902</td>\n",
       "    </tr>\n",
       "    <tr>\n",
       "      <th>3</th>\n",
       "      <td>0.674510</td>\n",
       "      <td>0.658824</td>\n",
       "      <td>0.596078</td>\n",
       "      <td>0.674510</td>\n",
       "      <td>0.658824</td>\n",
       "      <td>0.596078</td>\n",
       "    </tr>\n",
       "    <tr>\n",
       "      <th>4</th>\n",
       "      <td>0.768627</td>\n",
       "      <td>0.741176</td>\n",
       "      <td>0.666667</td>\n",
       "      <td>0.768627</td>\n",
       "      <td>0.741176</td>\n",
       "      <td>0.666667</td>\n",
       "    </tr>\n",
       "  </tbody>\n",
       "</table>\n",
       "</div>"
      ],
      "text/plain": [
       "          0         1         2         3         4         5\n",
       "0  0.600000  0.603922  0.556863  0.600000  0.603922  0.556863\n",
       "1  0.654902  0.588235  0.490196  0.654902  0.588235  0.490196\n",
       "2  0.815686  0.756863  0.654902  0.815686  0.756863  0.654902\n",
       "3  0.674510  0.658824  0.596078  0.674510  0.658824  0.596078\n",
       "4  0.768627  0.741176  0.666667  0.768627  0.741176  0.666667"
      ]
     },
     "execution_count": 107,
     "metadata": {},
     "output_type": "execute_result"
    }
   ],
   "source": [
    "tf1_new.head()"
   ]
  },
  {
   "cell_type": "code",
   "execution_count": 49,
   "metadata": {
    "collapsed": true
   },
   "outputs": [],
   "source": [
    "\n",
    "\n",
    "\n",
    "#### Repeating last 3 data ###\n",
    "\n",
    "#tf1_new[54] = tf18[51]\n",
    "#tf1_new[55] = tf18[52]\n",
    "#tf1_new[56] = tf18[53]\n",
    "#tf1_new[57] = tf18[51]\n",
    "#tf1_new[58] = tf18[52]\n",
    "#tf1_new[59] = tf18[53]\n",
    "#tf1_new[60] = tf18[51]\n",
    "#tf1_new[61] = tf18[52]\n",
    "#tf1_new[62] = tf18[53]\n",
    "#tf1_new[63] = tf18[51]\n",
    "#tf1_new[64] = tf18[52]\n",
    "#tf1_new[65] = tf18[53]\n",
    "#tf1_new[66] = tf18[51]\n",
    "#tf1_new[67] = tf18[52]\n",
    "#tf1_new[68] = tf18[53]\n",
    "#tf1_new[69] = tf18[51]\n",
    "#tf1_new[70] = tf18[52]\n",
    "#tf1_new[71] = tf18[53]\n",
    "#tf1_new[72] = tf18[51]\n",
    "#tf1_new[73] = tf18[52]\n",
    "#tf1_new[74] = tf18[53]\n",
    "#tf1_new[75] = tf18[51]\n",
    "#tf1_new[76] = tf18[52]\n",
    "#tf1_new[77] = tf18[53]\n",
    "#tf1_new[78] = tf18[51]\n",
    "#tf1_new[79] = tf18[52]\n",
    "#tf1_new[80] = tf18[53]\n",
    "#tf1_new[81] = tf18[51]\n",
    "#tf1_new[82] = tf18[52]\n",
    "#tf1_new[83] = tf18[53]"
   ]
  },
  {
   "cell_type": "code",
   "execution_count": 108,
   "metadata": {
    "collapsed": true
   },
   "outputs": [],
   "source": [
    "tf2_new = tf2"
   ]
  },
  {
   "cell_type": "code",
   "execution_count": 109,
   "metadata": {},
   "outputs": [
    {
     "data": {
      "text/plain": [
       "(1024, 6)"
      ]
     },
     "execution_count": 109,
     "metadata": {},
     "output_type": "execute_result"
    }
   ],
   "source": [
    "tf2_new.shape"
   ]
  },
  {
   "cell_type": "code",
   "execution_count": 110,
   "metadata": {},
   "outputs": [
    {
     "data": {
      "text/html": [
       "<div>\n",
       "<style>\n",
       "    .dataframe thead tr:only-child th {\n",
       "        text-align: right;\n",
       "    }\n",
       "\n",
       "    .dataframe thead th {\n",
       "        text-align: left;\n",
       "    }\n",
       "\n",
       "    .dataframe tbody tr th {\n",
       "        vertical-align: top;\n",
       "    }\n",
       "</style>\n",
       "<table border=\"1\" class=\"dataframe\">\n",
       "  <thead>\n",
       "    <tr style=\"text-align: right;\">\n",
       "      <th></th>\n",
       "      <th>0</th>\n",
       "      <th>1</th>\n",
       "      <th>2</th>\n",
       "      <th>3</th>\n",
       "      <th>4</th>\n",
       "      <th>5</th>\n",
       "    </tr>\n",
       "  </thead>\n",
       "  <tbody>\n",
       "    <tr>\n",
       "      <th>0</th>\n",
       "      <td>0.600000</td>\n",
       "      <td>0.603922</td>\n",
       "      <td>0.556863</td>\n",
       "      <td>0.600000</td>\n",
       "      <td>0.603922</td>\n",
       "      <td>0.556863</td>\n",
       "    </tr>\n",
       "    <tr>\n",
       "      <th>1</th>\n",
       "      <td>0.654902</td>\n",
       "      <td>0.588235</td>\n",
       "      <td>0.490196</td>\n",
       "      <td>0.654902</td>\n",
       "      <td>0.588235</td>\n",
       "      <td>0.490196</td>\n",
       "    </tr>\n",
       "    <tr>\n",
       "      <th>2</th>\n",
       "      <td>0.815686</td>\n",
       "      <td>0.756863</td>\n",
       "      <td>0.654902</td>\n",
       "      <td>0.815686</td>\n",
       "      <td>0.756863</td>\n",
       "      <td>0.654902</td>\n",
       "    </tr>\n",
       "    <tr>\n",
       "      <th>3</th>\n",
       "      <td>0.674510</td>\n",
       "      <td>0.658824</td>\n",
       "      <td>0.596078</td>\n",
       "      <td>0.674510</td>\n",
       "      <td>0.658824</td>\n",
       "      <td>0.596078</td>\n",
       "    </tr>\n",
       "    <tr>\n",
       "      <th>4</th>\n",
       "      <td>0.768627</td>\n",
       "      <td>0.741176</td>\n",
       "      <td>0.666667</td>\n",
       "      <td>0.768627</td>\n",
       "      <td>0.741176</td>\n",
       "      <td>0.666667</td>\n",
       "    </tr>\n",
       "  </tbody>\n",
       "</table>\n",
       "</div>"
      ],
      "text/plain": [
       "          0         1         2         3         4         5\n",
       "0  0.600000  0.603922  0.556863  0.600000  0.603922  0.556863\n",
       "1  0.654902  0.588235  0.490196  0.654902  0.588235  0.490196\n",
       "2  0.815686  0.756863  0.654902  0.815686  0.756863  0.654902\n",
       "3  0.674510  0.658824  0.596078  0.674510  0.658824  0.596078\n",
       "4  0.768627  0.741176  0.666667  0.768627  0.741176  0.666667"
      ]
     },
     "execution_count": 110,
     "metadata": {},
     "output_type": "execute_result"
    }
   ],
   "source": [
    "tf1_new.head()"
   ]
  },
  {
   "cell_type": "code",
   "execution_count": 51,
   "metadata": {
    "collapsed": true
   },
   "outputs": [],
   "source": [
    "#### tf1_new = train_data and we can take here any one test data, here we are taking tt1"
   ]
  },
  {
   "cell_type": "code",
   "execution_count": 113,
   "metadata": {},
   "outputs": [
    {
     "data": {
      "text/plain": [
       "(1024, 6)"
      ]
     },
     "execution_count": 113,
     "metadata": {},
     "output_type": "execute_result"
    }
   ],
   "source": [
    "tf2_new.shape"
   ]
  },
  {
   "cell_type": "code",
   "execution_count": 114,
   "metadata": {},
   "outputs": [
    {
     "data": {
      "text/plain": [
       "(1024, 3)"
      ]
     },
     "execution_count": 114,
     "metadata": {},
     "output_type": "execute_result"
    }
   ],
   "source": [
    "tt1.shape"
   ]
  },
  {
   "cell_type": "code",
   "execution_count": 115,
   "metadata": {
    "collapsed": true
   },
   "outputs": [],
   "source": [
    "X_numpy = tf1_new.values\n",
    "Y_numpy = tf2_new.values"
   ]
  },
  {
   "cell_type": "code",
   "execution_count": 116,
   "metadata": {
    "collapsed": true
   },
   "outputs": [],
   "source": [
    "model = linear_regressor.fit(X_numpy, Y_numpy)\n",
    "Y_pred = linear_regressor.predict(X_numpy)"
   ]
  },
  {
   "cell_type": "code",
   "execution_count": 117,
   "metadata": {},
   "outputs": [
    {
     "data": {
      "text/plain": [
       "array([[0.59999985, 0.6039086 , 0.5568471 , 0.6000001 , 0.60392165,\n",
       "        0.55686283],\n",
       "       [0.65490377, 0.5882285 , 0.49017984, 0.6549021 , 0.5882354 ,\n",
       "        0.49019614],\n",
       "       [0.8156856 , 0.756856  , 0.65488505, 0.8156864 , 0.7568629 ,\n",
       "        0.6549021 ],\n",
       "       ...,\n",
       "       [0.7764781 , 0.56079286, 0.3215494 , 0.7764706 , 0.56078434,\n",
       "        0.3215687 ],\n",
       "       [0.7843215 , 0.5647151 , 0.31762758, 0.7843138 , 0.56470597,\n",
       "        0.31764713],\n",
       "       [0.82745844, 0.6039315 , 0.34899977, 0.82745105, 0.60392165,\n",
       "        0.34901968]], dtype=float32)"
      ]
     },
     "execution_count": 117,
     "metadata": {},
     "output_type": "execute_result"
    }
   ],
   "source": [
    "Y_pred"
   ]
  },
  {
   "cell_type": "code",
   "execution_count": 118,
   "metadata": {},
   "outputs": [
    {
     "data": {
      "text/plain": [
       "(1024, 6)"
      ]
     },
     "execution_count": 118,
     "metadata": {},
     "output_type": "execute_result"
    }
   ],
   "source": [
    "Y_pred.shape"
   ]
  },
  {
   "cell_type": "code",
   "execution_count": 119,
   "metadata": {},
   "outputs": [
    {
     "data": {
      "text/plain": [
       "(1024, 6)"
      ]
     },
     "execution_count": 119,
     "metadata": {},
     "output_type": "execute_result"
    }
   ],
   "source": [
    "Y_numpy.shape"
   ]
  },
  {
   "cell_type": "code",
   "execution_count": 120,
   "metadata": {},
   "outputs": [
    {
     "data": {
      "text/plain": [
       "array([ 7.4505806e-06, -1.6391277e-05, -1.2010336e-05, -1.1920929e-07,\n",
       "       -2.6822090e-07, -1.4901161e-07], dtype=float32)"
      ]
     },
     "execution_count": 120,
     "metadata": {},
     "output_type": "execute_result"
    }
   ],
   "source": [
    "model.intercept_"
   ]
  },
  {
   "cell_type": "code",
   "execution_count": 121,
   "metadata": {},
   "outputs": [
    {
     "data": {
      "text/plain": [
       "array([[ 5.07623792e-01, -6.97559852e-04, -2.58731167e-03,\n",
       "         4.92365062e-01,  7.41229858e-04,  2.53826985e-03],\n",
       "       [ 1.25871645e-02,  4.93736506e-01, -1.93045754e-03,\n",
       "        -1.25457849e-02,  5.06287873e-01,  1.86555344e-03],\n",
       "       [ 6.33400911e-03, -2.16455385e-03,  5.10738850e-01,\n",
       "        -6.30849088e-03,  2.08859402e-03,  4.89309579e-01],\n",
       "       [-3.33070318e-07,  1.83117436e-07,  5.73973153e-08,\n",
       "         1.00000036e+00,  2.63911026e-08,  7.57428111e-08],\n",
       "       [ 2.51167791e-07,  7.00648570e-08,  4.89400350e-07,\n",
       "        -2.19989040e-08,  9.99999881e-01, -1.23498722e-07],\n",
       "       [ 5.07795733e-07,  3.31664182e-07,  6.76654821e-08,\n",
       "        -5.52700953e-07,  5.47109664e-08,  1.00000000e+00]], dtype=float32)"
      ]
     },
     "execution_count": 121,
     "metadata": {},
     "output_type": "execute_result"
    }
   ],
   "source": [
    "model.coef_"
   ]
  },
  {
   "cell_type": "code",
   "execution_count": 122,
   "metadata": {},
   "outputs": [
    {
     "name": "stdout",
     "output_type": "stream",
     "text": [
      "8.006584e-05\n"
     ]
    }
   ],
   "source": [
    "import sklearn\n",
    "from sklearn import metrics\n",
    "import numpy as np\n",
    "test_rmse= np.sqrt(metrics.mean_squared_error(Y_pred,Y_numpy))\n",
    "print(test_rmse)"
   ]
  },
  {
   "cell_type": "code",
   "execution_count": 137,
   "metadata": {},
   "outputs": [
    {
     "data": {
      "text/plain": [
       "array([[0., 1., 0., 1., 1., 0.],\n",
       "       [1., 0., 0., 1., 0., 0.],\n",
       "       [1., 1., 1., 1., 1., 1.],\n",
       "       ...,\n",
       "       [1., 0., 0., 1., 0., 0.],\n",
       "       [1., 0., 0., 1., 0., 0.],\n",
       "       [1., 1., 0., 1., 1., 0.]], dtype=float32)"
      ]
     },
     "execution_count": 137,
     "metadata": {},
     "output_type": "execute_result"
    }
   ],
   "source": [
    "cutoff = 0.60\n",
    "y_pred_classes = np.zeros_like(Y_pred)\n",
    "y_pred_classes[Y_pred > cutoff] = 1\n",
    "\n",
    "y_pred_classes"
   ]
  },
  {
   "cell_type": "code",
   "execution_count": 138,
   "metadata": {},
   "outputs": [
    {
     "data": {
      "text/plain": [
       "array([[0., 1., 0., 0., 1., 0.],\n",
       "       [1., 0., 0., 1., 0., 0.],\n",
       "       [1., 1., 1., 1., 1., 1.],\n",
       "       ...,\n",
       "       [1., 0., 0., 1., 0., 0.],\n",
       "       [1., 0., 0., 1., 0., 0.],\n",
       "       [1., 1., 0., 1., 1., 0.]], dtype=float32)"
      ]
     },
     "execution_count": 138,
     "metadata": {},
     "output_type": "execute_result"
    }
   ],
   "source": [
    "y_test_classes = np.zeros_like(Y_numpy)\n",
    "y_test_classes[Y_numpy > cutoff] = 1\n",
    "\n",
    "y_test_classes"
   ]
  },
  {
   "cell_type": "code",
   "execution_count": 139,
   "metadata": {
    "collapsed": true
   },
   "outputs": [],
   "source": [
    "y_pred_classes_df=pd.DataFrame(y_pred_classes)\n",
    "y_test_classes_df=pd.DataFrame(y_test_classes)"
   ]
  },
  {
   "cell_type": "code",
   "execution_count": 140,
   "metadata": {},
   "outputs": [
    {
     "name": "stdout",
     "output_type": "stream",
     "text": [
      "0    406\n",
      "1    406\n",
      "2    406\n",
      "3    406\n",
      "4    406\n",
      "5    406\n",
      "dtype: int64\n"
     ]
    }
   ],
   "source": [
    "pattern_count_test = y_test_classes_df[(y_test_classes_df[0]== 0) & (y_test_classes_df[1] == 0) & (y_test_classes_df[2] == 0)].count()\n",
    "\n",
    "y_test_classes_df.rename(columns = {0:'R', 1:'G',2:'B'}, inplace = True)\n",
    "\n",
    "\n",
    "print(pattern_count_test)"
   ]
  },
  {
   "cell_type": "code",
   "execution_count": 141,
   "metadata": {},
   "outputs": [
    {
     "data": {
      "text/plain": [
       "array([[1019,    0,    0,    0],\n",
       "       [   0,    2,    1,    0],\n",
       "       [   0,    0,    1,    0],\n",
       "       [   1,    0,    0,    0]], dtype=int64)"
      ]
     },
     "execution_count": 141,
     "metadata": {},
     "output_type": "execute_result"
    }
   ],
   "source": [
    "from sklearn.metrics import confusion_matrix\n",
    "cm = confusion_matrix(y_pred_classes.argmax(axis=1), y_test_classes.argmax(axis=1))\n",
    "cm"
   ]
  },
  {
   "cell_type": "code",
   "execution_count": 142,
   "metadata": {},
   "outputs": [
    {
     "data": {
      "image/png": "[encoded data removed]",
      "text/plain": [
       "<Figure size 288x288 with 2 Axes>"
      ]
     },
     "metadata": {},
     "output_type": "display_data"
    }
   ],
   "source": [
    "plt.matshow(cm)\n",
    "plt.title('Confusion matrix')\n",
    "plt.colorbar()\n",
    "plt.ylabel('True label')\n",
    "plt.xlabel('Predicted label')\n",
    "plt.show()"
   ]
  },
  {
   "cell_type": "code",
   "execution_count": 143,
   "metadata": {
    "collapsed": true
   },
   "outputs": [],
   "source": [
    "import os.path\n",
    "import numpy as np\n",
    "from PIL import Image\n",
    "\n",
    "len(y_pred_classes.shape)\n",
    "\n",
    "#img = Image.fromarray(Y_pred2, 'RGB')\n",
    "final_image_array = np.resize(Y_pred,(32,32,3))\n",
    "\n",
    "img = Image.fromarray(final_image_array, 'RGB')\n",
    "img.show()"
   ]
  },
  {
   "cell_type": "code",
   "execution_count": 144,
   "metadata": {
    "collapsed": true
   },
   "outputs": [],
   "source": [
    "#### learning curve#######"
   ]
  },
  {
   "cell_type": "code",
   "execution_count": 145,
   "metadata": {},
   "outputs": [],
   "source": [
    "from sklearn.linear_model import Ridge\n",
    "from sklearn.model_selection import validation_curve\n",
    "train_scores, valid_scores = validation_curve(Ridge(), y_test_classes, y_pred_classes, \"alpha\",np.logspace(-7, 3, 3),cv=5)"
   ]
  },
  {
   "cell_type": "code",
   "execution_count": 146,
   "metadata": {},
   "outputs": [
    {
     "data": {
      "text/plain": [
       "array([[0.99569925, 0.99397114, 0.99271795, 0.99210975, 0.99328655],\n",
       "       [0.99569924, 0.99397114, 0.99271795, 0.99210975, 0.99328655],\n",
       "       [0.53051368, 0.53816341, 0.52132798, 0.53975977, 0.54355873]])"
      ]
     },
     "execution_count": 146,
     "metadata": {},
     "output_type": "execute_result"
    }
   ],
   "source": [
    "train_scores"
   ]
  },
  {
   "cell_type": "code",
   "execution_count": 147,
   "metadata": {},
   "outputs": [
    {
     "data": {
      "text/plain": [
       "array([[0.98500177, 0.99150396, 0.99552491, 0.9999652 , 0.99425402],\n",
       "       [0.98499781, 0.99150459, 0.9955257 , 0.99996509, 0.99425314],\n",
       "       [0.48969522, 0.53587236, 0.45086415, 0.53602457, 0.50518958]])"
      ]
     },
     "execution_count": 147,
     "metadata": {},
     "output_type": "execute_result"
    }
   ],
   "source": [
    "valid_scores"
   ]
  },
  {
   "cell_type": "code",
   "execution_count": 148,
   "metadata": {
    "collapsed": true
   },
   "outputs": [],
   "source": [
    "train_scores_mean = np.mean(train_scores, axis=1)\n",
    "train_scores_std = np.std(train_scores, axis=1)\n",
    "valid_scores_mean = np.mean(valid_scores, axis=1)\n",
    "valid_scores_std = np.std(valid_scores, axis=1)"
   ]
  },
  {
   "cell_type": "code",
   "execution_count": 149,
   "metadata": {},
   "outputs": [
    {
     "data": {
      "image/png": "[encoded data removed]",
      "text/plain": [
       "<Figure size 432x288 with 1 Axes>"
      ]
     },
     "metadata": {},
     "output_type": "display_data"
    },
    {
     "data": {
      "image/png": "[encoded data removed]",
      "text/plain": [
       "<Figure size 432x288 with 1 Axes>"
      ]
     },
     "metadata": {},
     "output_type": "display_data"
    }
   ],
   "source": [
    "param_range = np.arange(1,3,5)\n",
    "plt.fill_between(param_range, train_scores_mean - train_scores_std, train_scores_mean + train_scores_std, color=\"gray\")\n",
    "plt.show()\n",
    "plt.fill_between(param_range, valid_scores_mean - valid_scores_std, valid_scores_mean + valid_scores_std, color=\"gainsboro\")\n",
    "plt.show()"
   ]
  },
  {
   "cell_type": "code",
   "execution_count": 150,
   "metadata": {},
   "outputs": [
    {
     "data": {
      "text/plain": [
       "0.9922623532530498"
      ]
     },
     "execution_count": 150,
     "metadata": {},
     "output_type": "execute_result"
    }
   ],
   "source": [
    "from sklearn.metrics import r2_score\n",
    "r2_score(y_test_classes,y_pred_classes)"
   ]
  },
  {
   "cell_type": "code",
   "execution_count": null,
   "metadata": {
    "collapsed": true
   },
   "outputs": [],
   "source": []
  },
  {
   "cell_type": "code",
   "execution_count": 152,
   "metadata": {},
   "outputs": [
    {
     "data": {
      "text/plain": [
       "array([[0., 1., 0., 1., 1., 0.],\n",
       "       [1., 0., 0., 1., 0., 0.],\n",
       "       [1., 1., 1., 1., 1., 1.],\n",
       "       ...,\n",
       "       [1., 0., 0., 1., 0., 0.],\n",
       "       [1., 0., 0., 1., 0., 0.],\n",
       "       [1., 1., 0., 1., 1., 0.]], dtype=float32)"
      ]
     },
     "execution_count": 152,
     "metadata": {},
     "output_type": "execute_result"
    }
   ],
   "source": [
    "y_pred_classes"
   ]
  },
  {
   "cell_type": "code",
   "execution_count": null,
   "metadata": {
    "collapsed": true
   },
   "outputs": [],
   "source": []
  }
 ],
 "metadata": {
  "kernelspec": {
   "display_name": "Python 3",
   "language": "python",
   "name": "python3"
  },
  "language_info": {
   "codemirror_mode": {
    "name": "ipython",
    "version": 3
   },
   "file_extension": ".py",
   "mimetype": "text/x-python",
   "name": "python",
   "nbconvert_exporter": "python",
   "pygments_lexer": "ipython3",
   "version": "3.6.3"
  }
 },
 "nbformat": 4,
 "nbformat_minor": 2
}
