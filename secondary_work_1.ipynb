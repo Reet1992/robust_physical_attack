{
 "cells": [
  {
   "cell_type": "code",
   "execution_count": 1,
   "metadata": {
    "collapsed": true
   },
   "outputs": [],
   "source": [
    "import scipy.io\n",
    "import numpy as np\n",
    "import matplotlib.pyplot as plt\n",
    "from sklearn import datasets, svm, metrics"
   ]
  },
  {
   "cell_type": "code",
   "execution_count": 2,
   "metadata": {},
   "outputs": [
    {
     "data": {
      "text/plain": [
       "sklearn.utils.Bunch"
      ]
     },
     "execution_count": 2,
     "metadata": {},
     "output_type": "execute_result"
    }
   ],
   "source": [
    "digits = datasets.load_digits()\n",
    "type(digits)\n"
   ]
  },
  {
   "cell_type": "code",
   "execution_count": 3,
   "metadata": {},
   "outputs": [
    {
     "data": {
      "image/png": "[encoded data removed]",
      "text/plain": [
       "<matplotlib.figure.Figure at 0x1e7901d49b0>"
      ]
     },
     "metadata": {},
     "output_type": "display_data"
    },
    {
     "data": {
      "image/png": "[encoded data removed]",
      "text/plain": [
       "<matplotlib.figure.Figure at 0x1e784399588>"
      ]
     },
     "metadata": {},
     "output_type": "display_data"
    },
    {
     "data": {
      "image/png": "[encoded data removed]",
      "text/plain": [
       "<matplotlib.figure.Figure at 0x1e78efa15f8>"
      ]
     },
     "metadata": {},
     "output_type": "display_data"
    },
    {
     "data": {
      "image/png": "[encoded data removed]",
      "text/plain": [
       "<matplotlib.figure.Figure at 0x1e7901b0470>"
      ]
     },
     "metadata": {},
     "output_type": "display_data"
    }
   ],
   "source": [
    "images_and_labels = list(zip(digits.images, digits.target))\n",
    "for index, (image, label) in enumerate(images_and_labels[:4]):\n",
    "    plt.subplot(2, 4, index + 1)\n",
    "    plt.axis('off')\n",
    "    plt.imshow(image, cmap=plt.cm.gray_r, interpolation='nearest')\n",
    "    plt.title('Training: %i' % label)\n",
    "    plt.show()\n"
   ]
  },
  {
   "cell_type": "code",
   "execution_count": 4,
   "metadata": {
    "collapsed": true
   },
   "outputs": [],
   "source": [
    "n_samples = len(digits.images)\n",
    "data = digits.images.reshape((n_samples, -1))"
   ]
  },
  {
   "cell_type": "code",
   "execution_count": 5,
   "metadata": {},
   "outputs": [
    {
     "data": {
      "text/plain": [
       "SVC(C=1.0, cache_size=200, class_weight=None, coef0=0.0,\n",
       "  decision_function_shape='ovr', degree=3, gamma=0.001, kernel='rbf',\n",
       "  max_iter=-1, probability=False, random_state=None, shrinking=True,\n",
       "  tol=0.001, verbose=False)"
      ]
     },
     "execution_count": 5,
     "metadata": {},
     "output_type": "execute_result"
    }
   ],
   "source": [
    "# Create a classifier: a support vector classifier\n",
    "classifier = svm.SVC(gamma=0.001)\n",
    "\n",
    "# We learn the digits on the first half of the digits\n",
    "classifier.fit(data[:n_samples // 2], digits.target[:n_samples // 2])"
   ]
  },
  {
   "cell_type": "code",
   "execution_count": 6,
   "metadata": {},
   "outputs": [
    {
     "name": "stdout",
     "output_type": "stream",
     "text": [
      "Classification report for classifier SVC(C=1.0, cache_size=200, class_weight=None, coef0=0.0,\n",
      "  decision_function_shape='ovr', degree=3, gamma=0.001, kernel='rbf',\n",
      "  max_iter=-1, probability=False, random_state=None, shrinking=True,\n",
      "  tol=0.001, verbose=False):\n",
      "             precision    recall  f1-score   support\n",
      "\n",
      "          0       1.00      0.99      0.99        88\n",
      "          1       0.99      0.97      0.98        91\n",
      "          2       0.99      0.99      0.99        86\n",
      "          3       0.98      0.87      0.92        91\n",
      "          4       0.99      0.96      0.97        92\n",
      "          5       0.95      0.97      0.96        91\n",
      "          6       0.99      0.99      0.99        91\n",
      "          7       0.96      0.99      0.97        89\n",
      "          8       0.94      1.00      0.97        88\n",
      "          9       0.93      0.98      0.95        92\n",
      "\n",
      "avg / total       0.97      0.97      0.97       899\n",
      "\n",
      "\n"
     ]
    }
   ],
   "source": [
    "# Now predict the value of the digit on the second half:\n",
    "expected = digits.target[n_samples // 2:]\n",
    "predicted = classifier.predict(data[n_samples // 2:])\n",
    "print(\"Classification report for classifier %s:\\n%s\\n\"\n",
    "      % (classifier, metrics.classification_report(expected, predicted)))\n",
    "#print(\"Confusion matrix:\\n%s\" % metrics.confusion_matrix(expected, predicted))"
   ]
  },
  {
   "cell_type": "code",
   "execution_count": 7,
   "metadata": {},
   "outputs": [
    {
     "data": {
      "image/png": "[encoded data removed]",
      "text/plain": [
       "<matplotlib.figure.Figure at 0x1e7901d4320>"
      ]
     },
     "metadata": {},
     "output_type": "display_data"
    }
   ],
   "source": [
    "images_and_predictions = list(zip(digits.images[n_samples // 2:], predicted))\n",
    "for index, (image, prediction) in enumerate(images_and_predictions[:4]):\n",
    "    plt.subplot(2, 4, index + 5)\n",
    "    plt.axis('off')\n",
    "    plt.imshow(image, cmap=plt.cm.gray_r, interpolation='nearest')\n",
    "    plt.title('Prediction: %i' % prediction)\n",
    "\n",
    "plt.show()"
   ]
  },
  {
   "cell_type": "code",
   "execution_count": 8,
   "metadata": {},
   "outputs": [
    {
     "data": {
      "text/plain": [
       "array([[87,  0,  0,  0,  1,  0,  0,  0,  0,  0],\n",
       "       [ 0, 88,  1,  0,  0,  0,  0,  0,  1,  1],\n",
       "       [ 0,  0, 85,  1,  0,  0,  0,  0,  0,  0],\n",
       "       [ 0,  0,  0, 79,  0,  3,  0,  4,  5,  0],\n",
       "       [ 0,  0,  0,  0, 88,  0,  0,  0,  0,  4],\n",
       "       [ 0,  0,  0,  0,  0, 88,  1,  0,  0,  2],\n",
       "       [ 0,  1,  0,  0,  0,  0, 90,  0,  0,  0],\n",
       "       [ 0,  0,  0,  0,  0,  1,  0, 88,  0,  0],\n",
       "       [ 0,  0,  0,  0,  0,  0,  0,  0, 88,  0],\n",
       "       [ 0,  0,  0,  1,  0,  1,  0,  0,  0, 90]], dtype=int64)"
      ]
     },
     "execution_count": 8,
     "metadata": {},
     "output_type": "execute_result"
    }
   ],
   "source": [
    "res = metrics.confusion_matrix(expected, predicted)\n",
    "res\n",
    "#type(expected)"
   ]
  },
  {
   "cell_type": "code",
   "execution_count": 9,
   "metadata": {
    "collapsed": true
   },
   "outputs": [],
   "source": [
    "from sklearn.metrics import confusion_matrix \n",
    "from sklearn.metrics import accuracy_score"
   ]
  },
  {
   "cell_type": "code",
   "execution_count": 10,
   "metadata": {},
   "outputs": [
    {
     "data": {
      "text/plain": [
       "0.9688542825361512"
      ]
     },
     "execution_count": 10,
     "metadata": {},
     "output_type": "execute_result"
    }
   ],
   "source": [
    "accuracy_score(expected, predicted)"
   ]
  },
  {
   "cell_type": "code",
   "execution_count": 12,
   "metadata": {},
   "outputs": [
    {
     "data": {
      "text/plain": [
       "array([[' ', ' ', ' ', ' ', ' ', ' ', ' ', ' ', ' ', ' ', ' ', ' ', ' ',\n",
       "        'p', 'r', 'e', 'c', 'i', 's', 'i', 'o', 'n', ' ', ' ', ' ', ' ',\n",
       "        'r', 'e', 'c', 'a', 'l', 'l', ' ', ' ', 'f', '1', '-', 's', 'c',\n",
       "        'o', 'r', 'e', ' ', ' ', ' ', 's', 'u', 'p', 'p', 'o', 'r', 't',\n",
       "        '\\n', '\\n', ' ', ' ', ' ', ' ', ' ', ' ', ' ', ' ', ' ', ' ',\n",
       "        '0', ' ', ' ', ' ', ' ', ' ', ' ', ' ', '1', '.', '0', '0', ' ',\n",
       "        ' ', ' ', ' ', ' ', ' ', '0', '.', '9', '9', ' ', ' ', ' ', ' ',\n",
       "        ' ', ' ', '0', '.', '9', '9', ' ', ' ', ' ', ' ', ' ', ' ', ' ',\n",
       "        ' ', '8', '8', '\\n', ' ', ' ', ' ', ' ', ' ', ' ', ' ', ' ', ' ',\n",
       "        ' ', '1', ' ', ' ', ' ', ' ', ' ', ' ', ' ', '0', '.', '9', '9',\n",
       "        ' ', ' ', ' ', ' ', ' ', ' ', '0', '.', '9', '7', ' ', ' ', ' ',\n",
       "        ' ', ' ', ' ', '0', '.', '9', '8', ' ', ' ', ' ', ' ', ' ', ' ',\n",
       "        ' ', ' ', '9', '1', '\\n', ' ', ' ', ' ', ' ', ' ', ' ', ' ', ' ',\n",
       "        ' ', ' ', '2', ' ', ' ', ' ', ' ', ' ', ' ', ' ', '0', '.', '9',\n",
       "        '9', ' ', ' ', ' ', ' ', ' ', ' ', '0', '.', '9', '9', ' ', ' ',\n",
       "        ' ', ' ', ' ', ' ', '0', '.', '9', '9', ' ', ' ', ' ', ' ', ' ',\n",
       "        ' ', ' ', ' ', '8', '6', '\\n', ' ', ' ', ' ', ' ', ' ', ' ', ' ',\n",
       "        ' ', ' ', ' ', '3', ' ', ' ', ' ', ' ', ' ', ' ', ' ', '0', '.',\n",
       "        '9', '8', ' ', ' ', ' ', ' ', ' ', ' ', '0', '.', '8', '7', ' ',\n",
       "        ' ', ' ', ' ', ' ', ' ', '0', '.', '9', '2', ' ', ' ', ' ', ' ',\n",
       "        ' ', ' ', ' ', ' ', '9', '1', '\\n', ' ', ' ', ' ', ' ', ' ', ' ',\n",
       "        ' ', ' ', ' ', ' ', '4', ' ', ' ', ' ', ' ', ' ', ' ', ' ', '0',\n",
       "        '.', '9', '9', ' ', ' ', ' ', ' ', ' ', ' ', '0', '.', '9', '6',\n",
       "        ' ', ' ', ' ', ' ', ' ', ' ', '0', '.', '9', '7', ' ', ' ', ' ',\n",
       "        ' ', ' ', ' ', ' ', ' ', '9', '2', '\\n'],\n",
       "       [' ', ' ', ' ', ' ', ' ', ' ', ' ', ' ', ' ', ' ', '5', ' ', ' ',\n",
       "        ' ', ' ', ' ', ' ', ' ', '0', '.', '9', '5', ' ', ' ', ' ', ' ',\n",
       "        ' ', ' ', '0', '.', '9', '7', ' ', ' ', ' ', ' ', ' ', ' ', '0',\n",
       "        '.', '9', '6', ' ', ' ', ' ', ' ', ' ', ' ', ' ', ' ', '9', '1',\n",
       "        '\\n', ' ', ' ', ' ', ' ', ' ', ' ', ' ', ' ', ' ', ' ', '6', ' ',\n",
       "        ' ', ' ', ' ', ' ', ' ', ' ', '0', '.', '9', '9', ' ', ' ', ' ',\n",
       "        ' ', ' ', ' ', '0', '.', '9', '9', ' ', ' ', ' ', ' ', ' ', ' ',\n",
       "        '0', '.', '9', '9', ' ', ' ', ' ', ' ', ' ', ' ', ' ', ' ', '9',\n",
       "        '1', '\\n', ' ', ' ', ' ', ' ', ' ', ' ', ' ', ' ', ' ', ' ', '7',\n",
       "        ' ', ' ', ' ', ' ', ' ', ' ', ' ', '0', '.', '9', '6', ' ', ' ',\n",
       "        ' ', ' ', ' ', ' ', '0', '.', '9', '9', ' ', ' ', ' ', ' ', ' ',\n",
       "        ' ', '0', '.', '9', '7', ' ', ' ', ' ', ' ', ' ', ' ', ' ', ' ',\n",
       "        '8', '9', '\\n', ' ', ' ', ' ', ' ', ' ', ' ', ' ', ' ', ' ', ' ',\n",
       "        '8', ' ', ' ', ' ', ' ', ' ', ' ', ' ', '0', '.', '9', '4', ' ',\n",
       "        ' ', ' ', ' ', ' ', ' ', '1', '.', '0', '0', ' ', ' ', ' ', ' ',\n",
       "        ' ', ' ', '0', '.', '9', '7', ' ', ' ', ' ', ' ', ' ', ' ', ' ',\n",
       "        ' ', '8', '8', '\\n', ' ', ' ', ' ', ' ', ' ', ' ', ' ', ' ', ' ',\n",
       "        ' ', '9', ' ', ' ', ' ', ' ', ' ', ' ', ' ', '0', '.', '9', '3',\n",
       "        ' ', ' ', ' ', ' ', ' ', ' ', '0', '.', '9', '8', ' ', ' ', ' ',\n",
       "        ' ', ' ', ' ', '0', '.', '9', '5', ' ', ' ', ' ', ' ', ' ', ' ',\n",
       "        ' ', ' ', '9', '2', '\\n', '\\n', 'a', 'v', 'g', ' ', '/', ' ',\n",
       "        't', 'o', 't', 'a', 'l', ' ', ' ', ' ', ' ', ' ', ' ', ' ', '0',\n",
       "        '.', '9', '7', ' ', ' ', ' ', ' ', ' ', ' ', '0', '.', '9', '7',\n",
       "        ' ', ' ', ' ', ' ', ' ', ' ', '0', '.', '9', '7', ' ', ' ', ' ',\n",
       "        ' ', ' ', ' ', ' ', '8', '9', '9', '\\n']], dtype=object)"
      ]
     },
     "execution_count": 12,
     "metadata": {},
     "output_type": "execute_result"
    }
   ],
   "source": [
    "from sklearn.metrics import classification_report\n",
    "import pandas as pd\n",
    "h=list(classification_report(expected, predicted))\n",
    "k=pd.DataFrame(h)\n",
    "k.values.reshape(2, 319)"
   ]
  },
  {
   "cell_type": "code",
   "execution_count": 13,
   "metadata": {
    "collapsed": true
   },
   "outputs": [],
   "source": [
    "df1 = pd.DataFrame(expected)\n",
    "df2 = pd.DataFrame(expected)"
   ]
  },
  {
   "cell_type": "code",
   "execution_count": 14,
   "metadata": {},
   "outputs": [
    {
     "data": {
      "image/png": "[encoded data removed]",
      "text/plain": [
       "<matplotlib.figure.Figure at 0x1e791099a90>"
      ]
     },
     "metadata": {},
     "output_type": "display_data"
    }
   ],
   "source": [
    "import seaborn as sns\n",
    "sns.distplot(expected,bins=20,kde=False)\n",
    "sns.distplot(predicted,bins=20,kde=False)\n",
    "plt.show()"
   ]
  },
  {
   "cell_type": "code",
   "execution_count": 15,
   "metadata": {
    "collapsed": true
   },
   "outputs": [],
   "source": [
    "df1['pred'] = df2[0]"
   ]
  },
  {
   "cell_type": "code",
   "execution_count": 16,
   "metadata": {},
   "outputs": [
    {
     "data": {
      "text/html": [
       "<div>\n",
       "<style>\n",
       "    .dataframe thead tr:only-child th {\n",
       "        text-align: right;\n",
       "    }\n",
       "\n",
       "    .dataframe thead th {\n",
       "        text-align: left;\n",
       "    }\n",
       "\n",
       "    .dataframe tbody tr th {\n",
       "        vertical-align: top;\n",
       "    }\n",
       "</style>\n",
       "<table border=\"1\" class=\"dataframe\">\n",
       "  <thead>\n",
       "    <tr style=\"text-align: right;\">\n",
       "      <th></th>\n",
       "      <th>0</th>\n",
       "      <th>pred</th>\n",
       "    </tr>\n",
       "  </thead>\n",
       "  <tbody>\n",
       "    <tr>\n",
       "      <th>0</th>\n",
       "      <td>8</td>\n",
       "      <td>8</td>\n",
       "    </tr>\n",
       "    <tr>\n",
       "      <th>1</th>\n",
       "      <td>8</td>\n",
       "      <td>8</td>\n",
       "    </tr>\n",
       "    <tr>\n",
       "      <th>2</th>\n",
       "      <td>4</td>\n",
       "      <td>4</td>\n",
       "    </tr>\n",
       "    <tr>\n",
       "      <th>3</th>\n",
       "      <td>9</td>\n",
       "      <td>9</td>\n",
       "    </tr>\n",
       "    <tr>\n",
       "      <th>4</th>\n",
       "      <td>0</td>\n",
       "      <td>0</td>\n",
       "    </tr>\n",
       "  </tbody>\n",
       "</table>\n",
       "</div>"
      ],
      "text/plain": [
       "   0  pred\n",
       "0  8     8\n",
       "1  8     8\n",
       "2  4     4\n",
       "3  9     9\n",
       "4  0     0"
      ]
     },
     "execution_count": 16,
     "metadata": {},
     "output_type": "execute_result"
    }
   ],
   "source": [
    "df1.head()"
   ]
  },
  {
   "cell_type": "code",
   "execution_count": 17,
   "metadata": {
    "collapsed": true
   },
   "outputs": [],
   "source": [
    "df1_numpy = df1.values"
   ]
  },
  {
   "cell_type": "code",
   "execution_count": 18,
   "metadata": {},
   "outputs": [
    {
     "data": {
      "text/plain": [
       "array([[8, 8],\n",
       "       [8, 8],\n",
       "       [4, 4],\n",
       "       ...,\n",
       "       [8, 8],\n",
       "       [9, 9],\n",
       "       [8, 8]])"
      ]
     },
     "execution_count": 18,
     "metadata": {},
     "output_type": "execute_result"
    }
   ],
   "source": [
    "df1_numpy"
   ]
  },
  {
   "cell_type": "code",
   "execution_count": 19,
   "metadata": {},
   "outputs": [
    {
     "data": {
      "image/png": "[encoded data removed]",
      "text/plain": [
       "<matplotlib.figure.Figure at 0x1e7913ae5f8>"
      ]
     },
     "metadata": {},
     "output_type": "display_data"
    }
   ],
   "source": [
    "\n",
    "heat_map = sns.heatmap(df1_numpy)\n",
    "plt.show()"
   ]
  },
  {
   "cell_type": "code",
   "execution_count": 20,
   "metadata": {
    "collapsed": true
   },
   "outputs": [],
   "source": [
    "################################compare and then predict an image#######################"
   ]
  },
  {
   "cell_type": "code",
   "execution_count": 25,
   "metadata": {},
   "outputs": [
    {
     "data": {
      "text/plain": [
       "array([[[255, 255, 255],\n",
       "        [255, 255, 255],\n",
       "        [255, 255, 255],\n",
       "        ...,\n",
       "        [248, 248, 248],\n",
       "        [255, 255, 255],\n",
       "        [249, 249, 249]],\n",
       "\n",
       "       [[255, 255, 255],\n",
       "        [255, 255, 255],\n",
       "        [255, 255, 255],\n",
       "        ...,\n",
       "        [244, 244, 244],\n",
       "        [255, 255, 255],\n",
       "        [252, 252, 252]],\n",
       "\n",
       "       [[255, 255, 255],\n",
       "        [255, 255, 255],\n",
       "        [255, 255, 255],\n",
       "        ...,\n",
       "        [240, 240, 240],\n",
       "        [253, 253, 253],\n",
       "        [254, 254, 254]],\n",
       "\n",
       "       ...,\n",
       "\n",
       "       [[255, 255, 255],\n",
       "        [255, 255, 255],\n",
       "        [255, 255, 255],\n",
       "        ...,\n",
       "        [253, 253, 253],\n",
       "        [226, 226, 226],\n",
       "        [255, 255, 255]],\n",
       "\n",
       "       [[255, 255, 255],\n",
       "        [255, 255, 255],\n",
       "        [255, 255, 255],\n",
       "        ...,\n",
       "        [253, 253, 253],\n",
       "        [226, 226, 226],\n",
       "        [255, 255, 255]],\n",
       "\n",
       "       [[255, 255, 255],\n",
       "        [255, 255, 255],\n",
       "        [255, 255, 255],\n",
       "        ...,\n",
       "        [253, 253, 253],\n",
       "        [226, 226, 226],\n",
       "        [255, 255, 255]]], dtype=uint8)"
      ]
     },
     "execution_count": 25,
     "metadata": {},
     "output_type": "execute_result"
    }
   ],
   "source": [
    "import matplotlib.pyplot as plt\n",
    "import matplotlib.image as mpimg\n",
    "img2 = mpimg.imread('11.JPG')\n",
    "img2"
   ]
  },
  {
   "cell_type": "code",
   "execution_count": 26,
   "metadata": {},
   "outputs": [
    {
     "data": {
      "image/png": "[encoded data removed]",
      "text/plain": [
       "<matplotlib.figure.Figure at 0x1e79167b1d0>"
      ]
     },
     "metadata": {},
     "output_type": "display_data"
    }
   ],
   "source": [
    "imgplot = plt.imshow(img2)\n",
    "imgplot\n",
    "plt.show()"
   ]
  },
  {
   "cell_type": "code",
   "execution_count": 29,
   "metadata": {},
   "outputs": [
    {
     "data": {
      "image/png": "[encoded data removed]",
      "text/plain": [
       "<matplotlib.figure.Figure at 0x1e79167b940>"
      ]
     },
     "metadata": {},
     "output_type": "display_data"
    }
   ],
   "source": [
    "lum_img1 = img2[:, :,1]\n",
    "plt.imshow(lum_img1)\n",
    "plt.show()"
   ]
  },
  {
   "cell_type": "code",
   "execution_count": 30,
   "metadata": {},
   "outputs": [
    {
     "data": {
      "image/png": "[encoded data removed]",
      "text/plain": [
       "<matplotlib.figure.Figure at 0x1e79177ac88>"
      ]
     },
     "metadata": {},
     "output_type": "display_data"
    }
   ],
   "source": [
    "fg2 = plt.imshow(lum_img1, cmap=\"Reds\")\n",
    "plt.show()"
   ]
  },
  {
   "cell_type": "code",
   "execution_count": 31,
   "metadata": {},
   "outputs": [
    {
     "data": {
      "image/png": "[encoded data removed]",
      "text/plain": [
       "<matplotlib.figure.Figure at 0x1e7917d42e8>"
      ]
     },
     "metadata": {},
     "output_type": "display_data"
    }
   ],
   "source": [
    "fg2=plt.imshow(lum_img1, cmap=\"Oranges\")\n",
    "plt.show()"
   ]
  },
  {
   "cell_type": "code",
   "execution_count": 33,
   "metadata": {
    "collapsed": true
   },
   "outputs": [],
   "source": [
    "fg = plt.imshow(lum_img1, cmap=\"Blues\")\n"
   ]
  },
  {
   "cell_type": "code",
   "execution_count": 34,
   "metadata": {},
   "outputs": [
    {
     "data": {
      "text/plain": [
       "matplotlib.image.AxesImage"
      ]
     },
     "execution_count": 34,
     "metadata": {},
     "output_type": "execute_result"
    }
   ],
   "source": [
    "type(fg)"
   ]
  },
  {
   "cell_type": "code",
   "execution_count": 35,
   "metadata": {
    "collapsed": true
   },
   "outputs": [],
   "source": [
    "fg1=np.array(fg)"
   ]
  },
  {
   "cell_type": "code",
   "execution_count": 36,
   "metadata": {},
   "outputs": [
    {
     "data": {
      "text/plain": [
       "numpy.ndarray"
      ]
     },
     "execution_count": 36,
     "metadata": {},
     "output_type": "execute_result"
    }
   ],
   "source": [
    "type(fg1)\n"
   ]
  },
  {
   "cell_type": "code",
   "execution_count": 37,
   "metadata": {},
   "outputs": [
    {
     "data": {
      "text/plain": [
       "array(<matplotlib.image.AxesImage object at 0x000001E7917B20B8>,\n",
       "      dtype=object)"
      ]
     },
     "execution_count": 37,
     "metadata": {},
     "output_type": "execute_result"
    }
   ],
   "source": [
    "fg1"
   ]
  },
  {
   "cell_type": "code",
   "execution_count": 387,
   "metadata": {
    "collapsed": true
   },
   "outputs": [],
   "source": [
    "#####################implementation #############################"
   ]
  },
  {
   "cell_type": "code",
   "execution_count": 498,
   "metadata": {
    "collapsed": true
   },
   "outputs": [],
   "source": [
    "\n",
    "import matplotlib.pyplot as plt\n",
    "import matplotlib.image as mpimg\n",
    "import sklearn.datasets\n",
    "imug1 = mpimg.imread('100.png')\n",
    "imug2 = mpimg.imread('20.png')\n",
    "imug3 = mpimg.imread('100.png')"
   ]
  },
  {
   "cell_type": "code",
   "execution_count": 499,
   "metadata": {
    "collapsed": true
   },
   "outputs": [],
   "source": [
    "l1=list(imug1)\n",
    "type(l1)\n",
    "l2=list(imug2)\n",
    "l3=list(imug3)"
   ]
  },
  {
   "cell_type": "code",
   "execution_count": 500,
   "metadata": {},
   "outputs": [
    {
     "data": {
      "text/plain": [
       "list"
      ]
     },
     "execution_count": 500,
     "metadata": {},
     "output_type": "execute_result"
    }
   ],
   "source": [
    "# Create a dataframe from zipped list\n",
    "type(l2)"
   ]
  },
  {
   "cell_type": "code",
   "execution_count": 501,
   "metadata": {
    "collapsed": true
   },
   "outputs": [],
   "source": [
    "import numpy as np\n",
    "import sklearn.datasets\n",
    "\n",
    "examples = []\n",
    "examples.append('some text')\n",
    "examples.append('another example text')\n",
    "examples.append('example 3')\n",
    "\n",
    "target = np.zeros((3,), dtype=np.int64)\n",
    "target[0] = 0\n",
    "target[1] = 1\n",
    "target[2] = 0\n",
    "dataset = sklearn.datasets.base.Bunch(data=examples, target=target)"
   ]
  },
  {
   "cell_type": "code",
   "execution_count": 502,
   "metadata": {},
   "outputs": [
    {
     "data": {
      "text/plain": [
       "{'data': ['some text', 'another example text', 'example 3'],\n",
       " 'target': array([0, 1, 0], dtype=int64)}"
      ]
     },
     "execution_count": 502,
     "metadata": {},
     "output_type": "execute_result"
    }
   ],
   "source": [
    "dataset"
   ]
  },
  {
   "cell_type": "code",
   "execution_count": 503,
   "metadata": {},
   "outputs": [
    {
     "data": {
      "text/plain": [
       "sklearn.utils.Bunch"
      ]
     },
     "execution_count": 503,
     "metadata": {},
     "output_type": "execute_result"
    }
   ],
   "source": [
    "type(dataset)"
   ]
  },
  {
   "cell_type": "code",
   "execution_count": 504,
   "metadata": {},
   "outputs": [
    {
     "data": {
      "text/plain": [
       "list"
      ]
     },
     "execution_count": 504,
     "metadata": {},
     "output_type": "execute_result"
    }
   ],
   "source": [
    "type(examples)"
   ]
  },
  {
   "cell_type": "code",
   "execution_count": 505,
   "metadata": {
    "collapsed": true
   },
   "outputs": [],
   "source": [
    "import numpy as np\n",
    "import sklearn.datasets\n",
    "\n",
    "#examples = []\n",
    "#examples.append('some text')\n",
    "#examples.append('another example text')\n",
    "#examples.append('example 3')\n",
    "\n",
    "#target = np.zeros((3,), dtype=np.int64)\n",
    "#target[0] = 0\n",
    "#target[1] = 1\n",
    "#target[2] = 0\n",
    "dl1 = sklearn.datasets.base.Bunch(data=l1)\n",
    "dl2 = sklearn.datasets.base.Bunch(data=l2)"
   ]
  },
  {
   "cell_type": "code",
   "execution_count": null,
   "metadata": {
    "collapsed": true
   },
   "outputs": [],
   "source": []
  },
  {
   "cell_type": "code",
   "execution_count": 506,
   "metadata": {
    "collapsed": true
   },
   "outputs": [],
   "source": [
    "import numpy as np\n",
    "import sklearn.datasets\n",
    "dl2 = sklearn.datasets.base.Bunch(data=l2)"
   ]
  },
  {
   "cell_type": "code",
   "execution_count": null,
   "metadata": {
    "collapsed": true
   },
   "outputs": [],
   "source": [
    "\n"
   ]
  },
  {
   "cell_type": "code",
   "execution_count": 507,
   "metadata": {
    "collapsed": true
   },
   "outputs": [],
   "source": [
    "import numpy as np\n",
    "import sklearn.datasets\n",
    "dl3 = sklearn.datasets.base.Bunch(data=l3)"
   ]
  },
  {
   "cell_type": "code",
   "execution_count": null,
   "metadata": {
    "collapsed": true
   },
   "outputs": [],
   "source": []
  },
  {
   "cell_type": "code",
   "execution_count": 508,
   "metadata": {
    "collapsed": true
   },
   "outputs": [],
   "source": [
    "from sklearn.linear_model import LinearRegression\n"
   ]
  },
  {
   "cell_type": "code",
   "execution_count": 509,
   "metadata": {},
   "outputs": [
    {
     "data": {
      "text/plain": [
       "array([[[0.6       , 0.6039216 , 0.5568628 ],\n",
       "        [0.654902  , 0.5882353 , 0.49019608],\n",
       "        [0.8156863 , 0.75686276, 0.654902  ],\n",
       "        ...,\n",
       "        [0.5058824 , 0.47058824, 0.43529412],\n",
       "        [0.47843137, 0.4509804 , 0.41568628],\n",
       "        [0.43137255, 0.40392157, 0.37254903]],\n",
       "\n",
       "       [[0.6509804 , 0.654902  , 0.6       ],\n",
       "        [0.6392157 , 0.6117647 , 0.53333336],\n",
       "        [0.9137255 , 0.8156863 , 0.6745098 ],\n",
       "        ...,\n",
       "        [0.42745098, 0.4       , 0.36862746],\n",
       "        [0.43529412, 0.4117647 , 0.38039216],\n",
       "        [0.41568628, 0.39215687, 0.36862746]],\n",
       "\n",
       "       [[0.64705884, 0.6509804 , 0.6       ],\n",
       "        [0.627451  , 0.62352943, 0.5686275 ],\n",
       "        [0.85490197, 0.7647059 , 0.6313726 ],\n",
       "        ...,\n",
       "        [0.40784314, 0.38431373, 0.35686275],\n",
       "        [0.4392157 , 0.41568628, 0.38431373],\n",
       "        [0.4392157 , 0.4117647 , 0.38431373]],\n",
       "\n",
       "       ...,\n",
       "\n",
       "       [[0.34509805, 0.32941177, 0.3019608 ],\n",
       "        [0.32156864, 0.30588236, 0.27450982],\n",
       "        [0.32941177, 0.31764707, 0.28235295],\n",
       "        ...,\n",
       "        [0.35686275, 0.32941177, 0.3019608 ],\n",
       "        [0.39607844, 0.36862746, 0.3372549 ],\n",
       "        [0.39215687, 0.36078432, 0.3254902 ]],\n",
       "\n",
       "       [[0.13725491, 0.13725491, 0.1254902 ],\n",
       "        [0.0627451 , 0.06666667, 0.05882353],\n",
       "        [0.19607843, 0.20784314, 0.20784314],\n",
       "        ...,\n",
       "        [0.3764706 , 0.30588236, 0.22745098],\n",
       "        [0.43529412, 0.34117648, 0.23921569],\n",
       "        [0.5058824 , 0.3882353 , 0.2627451 ]],\n",
       "\n",
       "       [[0.1254902 , 0.12941177, 0.11764706],\n",
       "        [0.07058824, 0.07450981, 0.06666667],\n",
       "        [0.16862746, 0.16862746, 0.16470589],\n",
       "        ...,\n",
       "        [0.7764706 , 0.56078434, 0.32156864],\n",
       "        [0.78431374, 0.5647059 , 0.31764707],\n",
       "        [0.827451  , 0.6039216 , 0.34901962]]], dtype=float32)"
      ]
     },
     "execution_count": 509,
     "metadata": {},
     "output_type": "execute_result"
    }
   ],
   "source": [
    "linear_regressor = LinearRegression()\n",
    "imug1.shape\n",
    "imug2.shape\n",
    "imug1\n",
    "\n",
    "#imug1.shape"
   ]
  },
  {
   "cell_type": "code",
   "execution_count": 510,
   "metadata": {
    "collapsed": true
   },
   "outputs": [],
   "source": [
    "####most important thing image numpy array reshaping########"
   ]
  },
  {
   "cell_type": "code",
   "execution_count": 511,
   "metadata": {},
   "outputs": [
    {
     "data": {
      "text/plain": [
       "array([[0.6       , 0.654902  , 0.8156863 , ..., 0.7764706 , 0.78431374,\n",
       "        0.827451  ],\n",
       "       [0.6039216 , 0.5882353 , 0.75686276, ..., 0.56078434, 0.5647059 ,\n",
       "        0.6039216 ],\n",
       "       [0.5568628 , 0.49019608, 0.654902  , ..., 0.32156864, 0.31764707,\n",
       "        0.34901962]], dtype=float32)"
      ]
     },
     "execution_count": 511,
     "metadata": {},
     "output_type": "execute_result"
    }
   ],
   "source": [
    "imug1_new=imug1.transpose(2,0,1).reshape(3,-1)\n",
    "imug2_new=imug2.transpose(2,0,1).reshape(3,-1)\n",
    "imug1_new"
   ]
  },
  {
   "cell_type": "code",
   "execution_count": 512,
   "metadata": {},
   "outputs": [
    {
     "name": "stdout",
     "output_type": "stream",
     "text": [
      "(3, 1024)\n",
      "(3, 1024)\n"
     ]
    }
   ],
   "source": [
    "print(imug1_new.shape)\n",
    "print(imug2_new.shape)\n",
    "import pandas as pd"
   ]
  },
  {
   "cell_type": "code",
   "execution_count": 513,
   "metadata": {
    "collapsed": true
   },
   "outputs": [],
   "source": [
    "train=pd.DataFrame(imug1_new)\n",
    "test=pd.DataFrame(imug2_new)"
   ]
  },
  {
   "cell_type": "code",
   "execution_count": 514,
   "metadata": {},
   "outputs": [
    {
     "data": {
      "text/html": [
       "<div>\n",
       "<style>\n",
       "    .dataframe thead tr:only-child th {\n",
       "        text-align: right;\n",
       "    }\n",
       "\n",
       "    .dataframe thead th {\n",
       "        text-align: left;\n",
       "    }\n",
       "\n",
       "    .dataframe tbody tr th {\n",
       "        vertical-align: top;\n",
       "    }\n",
       "</style>\n",
       "<table border=\"1\" class=\"dataframe\">\n",
       "  <thead>\n",
       "    <tr style=\"text-align: right;\">\n",
       "      <th></th>\n",
       "      <th>0</th>\n",
       "      <th>1</th>\n",
       "      <th>2</th>\n",
       "    </tr>\n",
       "  </thead>\n",
       "  <tbody>\n",
       "    <tr>\n",
       "      <th>0</th>\n",
       "      <td>0.600000</td>\n",
       "      <td>0.603922</td>\n",
       "      <td>0.556863</td>\n",
       "    </tr>\n",
       "    <tr>\n",
       "      <th>1</th>\n",
       "      <td>0.654902</td>\n",
       "      <td>0.588235</td>\n",
       "      <td>0.490196</td>\n",
       "    </tr>\n",
       "    <tr>\n",
       "      <th>2</th>\n",
       "      <td>0.815686</td>\n",
       "      <td>0.756863</td>\n",
       "      <td>0.654902</td>\n",
       "    </tr>\n",
       "    <tr>\n",
       "      <th>3</th>\n",
       "      <td>0.674510</td>\n",
       "      <td>0.658824</td>\n",
       "      <td>0.596078</td>\n",
       "    </tr>\n",
       "    <tr>\n",
       "      <th>4</th>\n",
       "      <td>0.768627</td>\n",
       "      <td>0.741176</td>\n",
       "      <td>0.666667</td>\n",
       "    </tr>\n",
       "  </tbody>\n",
       "</table>\n",
       "</div>"
      ],
      "text/plain": [
       "          0         1         2\n",
       "0  0.600000  0.603922  0.556863\n",
       "1  0.654902  0.588235  0.490196\n",
       "2  0.815686  0.756863  0.654902\n",
       "3  0.674510  0.658824  0.596078\n",
       "4  0.768627  0.741176  0.666667"
      ]
     },
     "execution_count": 514,
     "metadata": {},
     "output_type": "execute_result"
    }
   ],
   "source": [
    "tf = train.transpose()\n",
    "tf.head()"
   ]
  },
  {
   "cell_type": "code",
   "execution_count": 515,
   "metadata": {},
   "outputs": [
    {
     "data": {
      "text/html": [
       "<div>\n",
       "<style>\n",
       "    .dataframe thead tr:only-child th {\n",
       "        text-align: right;\n",
       "    }\n",
       "\n",
       "    .dataframe thead th {\n",
       "        text-align: left;\n",
       "    }\n",
       "\n",
       "    .dataframe tbody tr th {\n",
       "        vertical-align: top;\n",
       "    }\n",
       "</style>\n",
       "<table border=\"1\" class=\"dataframe\">\n",
       "  <thead>\n",
       "    <tr style=\"text-align: right;\">\n",
       "      <th></th>\n",
       "      <th>0</th>\n",
       "      <th>1</th>\n",
       "      <th>2</th>\n",
       "    </tr>\n",
       "  </thead>\n",
       "  <tbody>\n",
       "    <tr>\n",
       "      <th>0</th>\n",
       "      <td>0.486275</td>\n",
       "      <td>0.556863</td>\n",
       "      <td>0.462745</td>\n",
       "    </tr>\n",
       "    <tr>\n",
       "      <th>1</th>\n",
       "      <td>0.490196</td>\n",
       "      <td>0.556863</td>\n",
       "      <td>0.462745</td>\n",
       "    </tr>\n",
       "    <tr>\n",
       "      <th>2</th>\n",
       "      <td>0.482353</td>\n",
       "      <td>0.552941</td>\n",
       "      <td>0.466667</td>\n",
       "    </tr>\n",
       "    <tr>\n",
       "      <th>3</th>\n",
       "      <td>0.478431</td>\n",
       "      <td>0.549020</td>\n",
       "      <td>0.462745</td>\n",
       "    </tr>\n",
       "    <tr>\n",
       "      <th>4</th>\n",
       "      <td>0.490196</td>\n",
       "      <td>0.552941</td>\n",
       "      <td>0.466667</td>\n",
       "    </tr>\n",
       "  </tbody>\n",
       "</table>\n",
       "</div>"
      ],
      "text/plain": [
       "          0         1         2\n",
       "0  0.486275  0.556863  0.462745\n",
       "1  0.490196  0.556863  0.462745\n",
       "2  0.482353  0.552941  0.466667\n",
       "3  0.478431  0.549020  0.462745\n",
       "4  0.490196  0.552941  0.466667"
      ]
     },
     "execution_count": 515,
     "metadata": {},
     "output_type": "execute_result"
    }
   ],
   "source": [
    "tt = test.transpose()\n",
    "tt.head()"
   ]
  },
  {
   "cell_type": "code",
   "execution_count": 516,
   "metadata": {
    "collapsed": true
   },
   "outputs": [],
   "source": [
    "X_numpy = tf.values\n",
    "Y_numpy = tt.values"
   ]
  },
  {
   "cell_type": "code",
   "execution_count": 517,
   "metadata": {
    "collapsed": true
   },
   "outputs": [],
   "source": [
    "model = linear_regressor.fit(X_numpy, Y_numpy)\n",
    "Y_pred = linear_regressor.predict(X_numpy) "
   ]
  },
  {
   "cell_type": "code",
   "execution_count": 518,
   "metadata": {},
   "outputs": [
    {
     "data": {
      "text/plain": [
       "array([[0.55792516, 0.6028515 , 0.5774427 ],\n",
       "       [0.47173387, 0.49684757, 0.45394322],\n",
       "       [0.5307581 , 0.5827961 , 0.5514275 ],\n",
       "       ...,\n",
       "       [0.21138863, 0.23643576, 0.14348565],\n",
       "       [0.19660902, 0.22709784, 0.1315363 ],\n",
       "       [0.1971724 , 0.23583454, 0.14050972]], dtype=float32)"
      ]
     },
     "execution_count": 518,
     "metadata": {},
     "output_type": "execute_result"
    }
   ],
   "source": [
    "Y_pred"
   ]
  },
  {
   "cell_type": "code",
   "execution_count": 519,
   "metadata": {
    "collapsed": true
   },
   "outputs": [],
   "source": [
    "Y_pred = pd.DataFrame(Y_pred)"
   ]
  },
  {
   "cell_type": "code",
   "execution_count": 520,
   "metadata": {},
   "outputs": [
    {
     "data": {
      "text/html": [
       "<div>\n",
       "<style>\n",
       "    .dataframe thead tr:only-child th {\n",
       "        text-align: right;\n",
       "    }\n",
       "\n",
       "    .dataframe thead th {\n",
       "        text-align: left;\n",
       "    }\n",
       "\n",
       "    .dataframe tbody tr th {\n",
       "        vertical-align: top;\n",
       "    }\n",
       "</style>\n",
       "<table border=\"1\" class=\"dataframe\">\n",
       "  <thead>\n",
       "    <tr style=\"text-align: right;\">\n",
       "      <th></th>\n",
       "      <th>0</th>\n",
       "      <th>1</th>\n",
       "      <th>2</th>\n",
       "    </tr>\n",
       "  </thead>\n",
       "  <tbody>\n",
       "    <tr>\n",
       "      <th>0</th>\n",
       "      <td>0.557925</td>\n",
       "      <td>0.602852</td>\n",
       "      <td>0.577443</td>\n",
       "    </tr>\n",
       "    <tr>\n",
       "      <th>1</th>\n",
       "      <td>0.471734</td>\n",
       "      <td>0.496848</td>\n",
       "      <td>0.453943</td>\n",
       "    </tr>\n",
       "    <tr>\n",
       "      <th>2</th>\n",
       "      <td>0.530758</td>\n",
       "      <td>0.582796</td>\n",
       "      <td>0.551427</td>\n",
       "    </tr>\n",
       "    <tr>\n",
       "      <th>3</th>\n",
       "      <td>0.556069</td>\n",
       "      <td>0.601957</td>\n",
       "      <td>0.575854</td>\n",
       "    </tr>\n",
       "    <tr>\n",
       "      <th>4</th>\n",
       "      <td>0.570765</td>\n",
       "      <td>0.623952</td>\n",
       "      <td>0.600469</td>\n",
       "    </tr>\n",
       "  </tbody>\n",
       "</table>\n",
       "</div>"
      ],
      "text/plain": [
       "          0         1         2\n",
       "0  0.557925  0.602852  0.577443\n",
       "1  0.471734  0.496848  0.453943\n",
       "2  0.530758  0.582796  0.551427\n",
       "3  0.556069  0.601957  0.575854\n",
       "4  0.570765  0.623952  0.600469"
      ]
     },
     "execution_count": 520,
     "metadata": {},
     "output_type": "execute_result"
    }
   ],
   "source": [
    "Y_pred.head()"
   ]
  },
  {
   "cell_type": "code",
   "execution_count": 521,
   "metadata": {},
   "outputs": [
    {
     "data": {
      "text/plain": [
       "array([0.41120577, 0.3469096 , 0.29203552], dtype=float32)"
      ]
     },
     "execution_count": 521,
     "metadata": {},
     "output_type": "execute_result"
    }
   ],
   "source": [
    "model.intercept_"
   ]
  },
  {
   "cell_type": "code",
   "execution_count": 522,
   "metadata": {},
   "outputs": [
    {
     "data": {
      "text/plain": [
       "array([[ 0.6159063 , -2.5909011 ,  2.409708  ],\n",
       "       [-0.5370674 , -0.12892216,  1.1781021 ],\n",
       "       [-0.47492653, -0.5147497 ,  1.5824932 ]], dtype=float32)"
      ]
     },
     "execution_count": 522,
     "metadata": {},
     "output_type": "execute_result"
    }
   ],
   "source": [
    "model.coef_"
   ]
  },
  {
   "cell_type": "code",
   "execution_count": 523,
   "metadata": {
    "collapsed": true
   },
   "outputs": [],
   "source": [
    "import sklearn\n",
    "from sklearn import metrics\n",
    "test_rmse= np.sqrt(metrics.mean_squared_error(Y_pred,tt))"
   ]
  },
  {
   "cell_type": "code",
   "execution_count": 525,
   "metadata": {},
   "outputs": [
    {
     "data": {
      "text/plain": [
       "0.12534226"
      ]
     },
     "execution_count": 525,
     "metadata": {},
     "output_type": "execute_result"
    }
   ],
   "source": [
    "type(test_rmse)\n",
    "test_rmse"
   ]
  },
  {
   "cell_type": "code",
   "execution_count": 526,
   "metadata": {},
   "outputs": [
    {
     "data": {
      "text/plain": [
       "array([[0.55792516, 0.6028515 , 0.5774427 ],\n",
       "       [0.47173387, 0.49684757, 0.45394322],\n",
       "       [0.5307581 , 0.5827961 , 0.5514275 ],\n",
       "       ...,\n",
       "       [0.21138863, 0.23643576, 0.14348565],\n",
       "       [0.19660902, 0.22709784, 0.1315363 ],\n",
       "       [0.1971724 , 0.23583454, 0.14050972]], dtype=float32)"
      ]
     },
     "execution_count": 526,
     "metadata": {},
     "output_type": "execute_result"
    }
   ],
   "source": [
    "import scipy.misc\n",
    "Y_pred.shape\n",
    "import imageio\n",
    "import skimage\n",
    "from skimage import img_as_ubyte\n",
    "Y_pred2 = Y_pred.values\n",
    "#imageio.imwrite('picture_out3.jpg', img_as_ubyte(Y_pred2/255.0),cmap='gray')\n",
    "Y_pred2"
   ]
  },
  {
   "cell_type": "code",
   "execution_count": 527,
   "metadata": {},
   "outputs": [
    {
     "data": {
      "text/plain": [
       "0.12534226"
      ]
     },
     "execution_count": 527,
     "metadata": {},
     "output_type": "execute_result"
    }
   ],
   "source": [
    "test_rmse\n",
    "\n",
    "##############first finding###############"
   ]
  },
  {
   "cell_type": "code",
   "execution_count": 551,
   "metadata": {},
   "outputs": [
    {
     "data": {
      "text/plain": [
       "array([[0.55792516, 0.6028515 , 0.5774427 ],\n",
       "       [0.47173387, 0.49684757, 0.45394322],\n",
       "       [0.5307581 , 0.5827961 , 0.5514275 ],\n",
       "       ...,\n",
       "       [0.21138863, 0.23643576, 0.14348565],\n",
       "       [0.19660902, 0.22709784, 0.1315363 ],\n",
       "       [0.1971724 , 0.23583454, 0.14050972]], dtype=float32)"
      ]
     },
     "execution_count": 551,
     "metadata": {},
     "output_type": "execute_result"
    }
   ],
   "source": [
    "Y_pred2\n"
   ]
  },
  {
   "cell_type": "code",
   "execution_count": 528,
   "metadata": {},
   "outputs": [
    {
     "data": {
      "text/plain": [
       "array([[0.4862745 , 0.5568628 , 0.4627451 ],\n",
       "       [0.49019608, 0.5568628 , 0.4627451 ],\n",
       "       [0.48235294, 0.5529412 , 0.46666667],\n",
       "       ...,\n",
       "       [0.39215687, 0.45490196, 0.4509804 ],\n",
       "       [0.39607844, 0.45882353, 0.45882353],\n",
       "       [0.40392157, 0.46666667, 0.4627451 ]], dtype=float32)"
      ]
     },
     "execution_count": 528,
     "metadata": {},
     "output_type": "execute_result"
    }
   ],
   "source": [
    "Y_numpy\n"
   ]
  },
  {
   "cell_type": "code",
   "execution_count": 552,
   "metadata": {},
   "outputs": [
    {
     "data": {
      "text/plain": [
       "(1024, 3)"
      ]
     },
     "execution_count": 552,
     "metadata": {},
     "output_type": "execute_result"
    }
   ],
   "source": [
    "Y_pred2.shape"
   ]
  },
  {
   "cell_type": "code",
   "execution_count": 557,
   "metadata": {},
   "outputs": [
    {
     "data": {
      "text/plain": [
       "array([[1., 1., 1.],\n",
       "       [0., 0., 0.],\n",
       "       [0., 1., 1.],\n",
       "       ...,\n",
       "       [0., 0., 0.],\n",
       "       [0., 0., 0.],\n",
       "       [0., 0., 0.]], dtype=float32)"
      ]
     },
     "execution_count": 557,
     "metadata": {},
     "output_type": "execute_result"
    }
   ],
   "source": [
    "cutoff = 0.55\n",
    "y_pred_classes = np.zeros_like(Y_pred2)\n",
    "y_pred_classes[Y_pred2 > cutoff] = 1\n",
    "\n",
    "y_pred_classes\n",
    "#y_pred_classes.shape"
   ]
  },
  {
   "cell_type": "code",
   "execution_count": 558,
   "metadata": {},
   "outputs": [
    {
     "name": "stdout",
     "output_type": "stream",
     "text": [
      "0    140\n",
      "1    140\n",
      "2    140\n",
      "dtype: int64\n"
     ]
    },
    {
     "data": {
      "text/plain": [
       "1024"
      ]
     },
     "execution_count": 558,
     "metadata": {},
     "output_type": "execute_result"
    }
   ],
   "source": [
    "y_test_classes = np.zeros_like(Y_pred2)\n",
    "y_test_classes[Y_numpy > cutoff] = 1\n",
    "\n",
    "#y_test_classes[:34]\n",
    "y_test_classes[:16]\n",
    "\n",
    "y_test_classes_df=pd.DataFrame(y_test_classes)\n",
    "\n",
    "#y_test_classes_df.head(45)\n",
    "\n",
    "pattern_count_test = y_test_classes_df[(y_test_classes_df[0]== 0) & (y_test_classes_df[1] == 0) & (y_test_classes_df[2] == 0)].count()\n",
    "\n",
    "y_test_classes_df.rename(columns = {0:'R', 1:'G',2:'B'}, inplace = True)\n",
    "\n",
    "\n",
    "print(pattern_count_test)\n",
    "\n",
    "\n",
    "######count for train dataset######\n",
    "\n",
    "y_pred_classes_df = pd.DataFrame(y_pred_classes)\n",
    "pattern_count_train = y_pred_classes_df[(y_pred_classes_df[0]== 0) & (y_pred_classes_df[1] == 0) & (y_pred_classes_df[2] == 0)].count()\n",
    "\n",
    "#y_test_classes_df.rename(columns = {0:'R', 1:'G',2:'B'}, inplace = True)\n",
    "\n",
    "len(y_pred_classes_df)\n",
    "\n"
   ]
  },
  {
   "cell_type": "code",
   "execution_count": 559,
   "metadata": {
    "collapsed": true
   },
   "outputs": [],
   "source": [
    "#############Accuracy calculation############"
   ]
  },
  {
   "cell_type": "code",
   "execution_count": 560,
   "metadata": {},
   "outputs": [
    {
     "data": {
      "text/plain": [
       "-0.12370819371591663"
      ]
     },
     "execution_count": 560,
     "metadata": {},
     "output_type": "execute_result"
    }
   ],
   "source": [
    "from sklearn.metrics import accuracy_score\n",
    "\n",
    "\n",
    "model.score(y_test_classes, y_pred_classes)"
   ]
  },
  {
   "cell_type": "code",
   "execution_count": null,
   "metadata": {
    "collapsed": true
   },
   "outputs": [],
   "source": []
  },
  {
   "cell_type": "code",
   "execution_count": null,
   "metadata": {
    "collapsed": true
   },
   "outputs": [],
   "source": []
  },
  {
   "cell_type": "code",
   "execution_count": 561,
   "metadata": {},
   "outputs": [
    {
     "data": {
      "text/plain": [
       "array([[1., 1., 1.],\n",
       "       [0., 0., 0.],\n",
       "       [0., 1., 1.],\n",
       "       ...,\n",
       "       [0., 0., 0.],\n",
       "       [0., 0., 0.],\n",
       "       [0., 0., 0.]], dtype=float32)"
      ]
     },
     "execution_count": 561,
     "metadata": {},
     "output_type": "execute_result"
    }
   ],
   "source": [
    "y_pred_classes"
   ]
  },
  {
   "cell_type": "code",
   "execution_count": null,
   "metadata": {
    "collapsed": true
   },
   "outputs": [],
   "source": []
  },
  {
   "cell_type": "code",
   "execution_count": 562,
   "metadata": {
    "collapsed": true
   },
   "outputs": [],
   "source": [
    "\n",
    "#plot_confusion_matrix(y_test, y_pred, classes=class_names,title='Confusion matrix, without normalization')"
   ]
  },
  {
   "cell_type": "code",
   "execution_count": null,
   "metadata": {
    "collapsed": true
   },
   "outputs": [],
   "source": []
  },
  {
   "cell_type": "code",
   "execution_count": 563,
   "metadata": {
    "collapsed": true
   },
   "outputs": [],
   "source": [
    "from sklearn.metrics import confusion_matrix\n"
   ]
  },
  {
   "cell_type": "code",
   "execution_count": 564,
   "metadata": {
    "collapsed": true
   },
   "outputs": [],
   "source": [
    "cm = confusion_matrix(y_test_classes.argmax(axis=1), y_pred_classes.argmax(axis=1))"
   ]
  },
  {
   "cell_type": "code",
   "execution_count": 565,
   "metadata": {},
   "outputs": [
    {
     "data": {
      "text/plain": [
       "array([[991,   7],\n",
       "       [ 24,   2]], dtype=int64)"
      ]
     },
     "execution_count": 565,
     "metadata": {},
     "output_type": "execute_result"
    }
   ],
   "source": [
    "cm"
   ]
  },
  {
   "cell_type": "code",
   "execution_count": 577,
   "metadata": {},
   "outputs": [
    {
     "data": {
      "image/png": "[encoded data removed]",
      "text/plain": [
       "<matplotlib.figure.Figure at 0x1e79375d7f0>"
      ]
     },
     "metadata": {},
     "output_type": "display_data"
    }
   ],
   "source": [
    "plt.matshow(cm)\n",
    "plt.title('Confusion matrix')\n",
    "plt.colorbar()\n",
    "plt.ylabel('True label')\n",
    "plt.xlabel('Predicted label')\n",
    "plt.show()"
   ]
  },
  {
   "cell_type": "code",
   "execution_count": 578,
   "metadata": {
    "collapsed": true
   },
   "outputs": [],
   "source": [
    "import os.path\n",
    "import numpy as np\n",
    "from PIL import Image\n",
    "\n",
    "len(y_pred_classes.shape)\n",
    "\n",
    "#img = Image.fromarray(Y_pred2, 'RGB')\n",
    "final_image_array = np.resize(Y_pred2,(32,32,3))\n",
    "\n",
    "img = Image.fromarray(final_image_array, 'RGB')\n",
    "img.show()"
   ]
  },
  {
   "cell_type": "code",
   "execution_count": 579,
   "metadata": {
    "collapsed": true
   },
   "outputs": [],
   "source": [
    "##########Validation Curve for learning ############"
   ]
  },
  {
   "cell_type": "code",
   "execution_count": 580,
   "metadata": {
    "collapsed": true
   },
   "outputs": [],
   "source": [
    "from sklearn.linear_model import Ridge\n",
    "from sklearn.model_selection import validation_curve"
   ]
  },
  {
   "cell_type": "code",
   "execution_count": 581,
   "metadata": {
    "collapsed": true
   },
   "outputs": [],
   "source": [
    "train_scores, valid_scores = validation_curve(Ridge(), y_test_classes, y_pred_classes, \"alpha\",np.logspace(-7, 3, 3),cv=5)"
   ]
  },
  {
   "cell_type": "code",
   "execution_count": 582,
   "metadata": {},
   "outputs": [
    {
     "data": {
      "text/plain": [
       "array([[0.49052099, 0.41082007, 0.39937574, 0.44118287, 0.46384058],\n",
       "       [0.49052098, 0.41082006, 0.39937574, 0.44118285, 0.46384057],\n",
       "       [0.16588595, 0.12575613, 0.11351225, 0.13650688, 0.15212106]])"
      ]
     },
     "execution_count": 582,
     "metadata": {},
     "output_type": "execute_result"
    }
   ],
   "source": [
    "train_scores"
   ]
  },
  {
   "cell_type": "code",
   "execution_count": 583,
   "metadata": {},
   "outputs": [
    {
     "data": {
      "text/plain": [
       "array([[0.16214095, 0.55723914, 0.54968261, 0.39319307, 0.25819758],\n",
       "       [0.16232749, 0.55724817, 0.54967193, 0.3932205 , 0.2582818 ],\n",
       "       [0.00557743, 0.13662625, 0.10211086, 0.12286245, 0.04319383]])"
      ]
     },
     "execution_count": 583,
     "metadata": {},
     "output_type": "execute_result"
    }
   ],
   "source": [
    "valid_scores"
   ]
  },
  {
   "cell_type": "code",
   "execution_count": 584,
   "metadata": {
    "collapsed": true
   },
   "outputs": [],
   "source": [
    "train_scores_mean = np.mean(train_scores, axis=1)\n",
    "train_scores_std = np.std(train_scores, axis=1)\n",
    "valid_scores_mean = np.mean(valid_scores, axis=1)\n",
    "valid_scores_std = np.std(valid_scores, axis=1)"
   ]
  },
  {
   "cell_type": "code",
   "execution_count": 585,
   "metadata": {},
   "outputs": [
    {
     "data": {
      "image/png": "[encoded data removed]",
      "text/plain": [
       "<matplotlib.figure.Figure at 0x1e7937e9ba8>"
      ]
     },
     "metadata": {},
     "output_type": "display_data"
    },
    {
     "data": {
      "image/png": "[encoded data removed]",
      "text/plain": [
       "<matplotlib.figure.Figure at 0x1e7939ff7b8>"
      ]
     },
     "metadata": {},
     "output_type": "display_data"
    }
   ],
   "source": [
    "param_range = np.arange(1,3,5)\n",
    "plt.fill_between(param_range, train_scores_mean - train_scores_std, train_scores_mean + train_scores_std, color=\"gray\")\n",
    "plt.show()\n",
    "plt.fill_between(param_range, valid_scores_mean - valid_scores_std, valid_scores_mean + valid_scores_std, color=\"gainsboro\")\n",
    "plt.show()"
   ]
  },
  {
   "cell_type": "code",
   "execution_count": 586,
   "metadata": {
    "collapsed": true
   },
   "outputs": [],
   "source": [
    "#########R square ##############"
   ]
  },
  {
   "cell_type": "code",
   "execution_count": 576,
   "metadata": {},
   "outputs": [
    {
     "data": {
      "text/plain": [
       "0.1771616477510027"
      ]
     },
     "execution_count": 576,
     "metadata": {},
     "output_type": "execute_result"
    }
   ],
   "source": [
    "from sklearn.metrics import r2_score\n",
    "r2_score(y_pred_classes,y_test_classes)"
   ]
  },
  {
   "cell_type": "code",
   "execution_count": null,
   "metadata": {
    "collapsed": true
   },
   "outputs": [],
   "source": []
  },
  {
   "cell_type": "code",
   "execution_count": null,
   "metadata": {
    "collapsed": true
   },
   "outputs": [],
   "source": []
  }
 ],
 "metadata": {
  "kernelspec": {
   "display_name": "Python 3",
   "language": "python",
   "name": "python3"
  },
  "language_info": {
   "codemirror_mode": {
    "name": "ipython",
    "version": 3
   },
   "file_extension": ".py",
   "mimetype": "text/x-python",
   "name": "python",
   "nbconvert_exporter": "python",
   "pygments_lexer": "ipython3",
   "version": "3.6.3"
  }
 },
 "nbformat": 4,
 "nbformat_minor": 2
}
