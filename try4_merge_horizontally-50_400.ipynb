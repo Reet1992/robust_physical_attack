{
 "cells": [
  {
   "cell_type": "code",
   "execution_count": 8,
   "metadata": {
    "collapsed": true
   },
   "outputs": [],
   "source": [
    "import scipy.io\n",
    "import numpy as np\n",
    "import pandas as pd\n",
    "import seaborn as sns\n",
    "import matplotlib.pyplot as plt\n",
    "from sklearn import datasets, svm, metrics"
   ]
  },
  {
   "cell_type": "code",
   "execution_count": 1,
   "metadata": {
    "collapsed": true
   },
   "outputs": [],
   "source": [
    "import matplotlib.pyplot as plt\n",
    "import matplotlib.image as mpimg\n",
    "import sklearn.datasets\n",
    "\n",
    "# 50,100,150 images are with stickers # 19,20 images are test images\n",
    "imug1 = mpimg.imread('50.png')\n",
    "imug2 = mpimg.imread('20.png')\n",
    "imug3 = mpimg.imread('100.png')\n",
    "imug4 = mpimg.imread('19.png')\n",
    "imug5 = mpimg.imread('150.png')\n",
    "imug7 = mpimg.imread('200.png')\n",
    "imug9 = mpimg.imread('250.png')\n",
    "imug11 = mpimg.imread('300.png')\n",
    "imug13 = mpimg.imread('350.png')\n",
    "imug15 = mpimg.imread('400.png')"
   ]
  },
  {
   "cell_type": "code",
   "execution_count": 2,
   "metadata": {},
   "outputs": [
    {
     "data": {
      "text/plain": [
       "(32, 32, 3)"
      ]
     },
     "execution_count": 2,
     "metadata": {},
     "output_type": "execute_result"
    }
   ],
   "source": [
    "from sklearn.linear_model import LinearRegression\n",
    "linear_regressor = LinearRegression()\n",
    "imug1.shape\n",
    "imug2.shape\n",
    "imug3.shape\n",
    "imug4.shape\n",
    "imug5.shape\n",
    "imug7.shape\n",
    "imug9.shape\n",
    "imug11.shape\n",
    "imug13.shape\n",
    "imug15.shape"
   ]
  },
  {
   "cell_type": "code",
   "execution_count": 3,
   "metadata": {
    "collapsed": true
   },
   "outputs": [],
   "source": [
    "imug1_new=imug1.transpose(2,0,1).reshape(3,-1)\n",
    "imug2_new=imug2.transpose(2,0,1).reshape(3,-1)\n",
    "imug3_new=imug3.transpose(2,0,1).reshape(3,-1)\n",
    "imug4_new=imug4.transpose(2,0,1).reshape(3,-1)\n",
    "imug5_new=imug5.transpose(2,0,1).reshape(3,-1)\n",
    "imug7_new=imug7.transpose(2,0,1).reshape(3,-1)\n",
    "imug9_new=imug9.transpose(2,0,1).reshape(3,-1)\n",
    "imug11_new=imug11.transpose(2,0,1).reshape(3,-1)\n",
    "imug13_new=imug13.transpose(2,0,1).reshape(3,-1)\n",
    "imug15_new=imug15.transpose(2,0,1).reshape(3,-1)"
   ]
  },
  {
   "cell_type": "code",
   "execution_count": 4,
   "metadata": {},
   "outputs": [
    {
     "name": "stdout",
     "output_type": "stream",
     "text": [
      "(3, 1024)\n",
      "(3, 1024)\n",
      "(3, 1024)\n",
      "(3, 1024)\n",
      "(3, 1024)\n",
      "(3, 1024)\n",
      "(3, 1024)\n",
      "(3, 1024)\n",
      "(3, 1024)\n",
      "(3, 1024)\n"
     ]
    }
   ],
   "source": [
    "print(imug1_new.shape)\n",
    "print(imug2_new.shape)\n",
    "print(imug3_new.shape)\n",
    "print(imug4_new.shape)\n",
    "print(imug5_new.shape)\n",
    "print(imug7_new.shape)\n",
    "print(imug9_new.shape)\n",
    "print(imug11_new.shape)\n",
    "print(imug13_new.shape)\n",
    "print(imug15_new.shape)"
   ]
  },
  {
   "cell_type": "code",
   "execution_count": 7,
   "metadata": {},
   "outputs": [],
   "source": [
    "import pandas as pd\n",
    "train1=pd.DataFrame(imug1_new)\n",
    "train2=pd.DataFrame(imug3_new)\n",
    "train3=pd.DataFrame(imug5_new)\n",
    "train4=pd.DataFrame(imug7_new)\n",
    "train5=pd.DataFrame(imug9_new)\n",
    "train6=pd.DataFrame(imug11_new)\n",
    "train7=pd.DataFrame(imug13_new)\n",
    "train8=pd.DataFrame(imug15_new)\n",
    "test1=pd.DataFrame(imug2_new)\n",
    "test2=pd.DataFrame(imug4_new)"
   ]
  },
  {
   "cell_type": "code",
   "execution_count": 8,
   "metadata": {},
   "outputs": [],
   "source": [
    "tf1 = train1.transpose()\n",
    "tf2 = train2.transpose()\n",
    "tf3 = train3.transpose()\n",
    "tf4 = train4.transpose()\n",
    "tf5 = train5.transpose()\n",
    "tf6 = train6.transpose()\n",
    "tf7 = train7.transpose()\n",
    "tf8 = train8.transpose()\n"
   ]
  },
  {
   "cell_type": "code",
   "execution_count": null,
   "metadata": {},
   "outputs": [],
   "source": []
  },
  {
   "cell_type": "code",
   "execution_count": 9,
   "metadata": {},
   "outputs": [
    {
     "data": {
      "text/html": [
       "<div>\n",
       "<style>\n",
       "    .dataframe thead tr:only-child th {\n",
       "        text-align: right;\n",
       "    }\n",
       "\n",
       "    .dataframe thead th {\n",
       "        text-align: left;\n",
       "    }\n",
       "\n",
       "    .dataframe tbody tr th {\n",
       "        vertical-align: top;\n",
       "    }\n",
       "</style>\n",
       "<table border=\"1\" class=\"dataframe\">\n",
       "  <thead>\n",
       "    <tr style=\"text-align: right;\">\n",
       "      <th></th>\n",
       "      <th>0</th>\n",
       "      <th>1</th>\n",
       "      <th>2</th>\n",
       "    </tr>\n",
       "  </thead>\n",
       "  <tbody>\n",
       "    <tr>\n",
       "      <th>0</th>\n",
       "      <td>0.486275</td>\n",
       "      <td>0.556863</td>\n",
       "      <td>0.462745</td>\n",
       "    </tr>\n",
       "    <tr>\n",
       "      <th>1</th>\n",
       "      <td>0.490196</td>\n",
       "      <td>0.556863</td>\n",
       "      <td>0.462745</td>\n",
       "    </tr>\n",
       "    <tr>\n",
       "      <th>2</th>\n",
       "      <td>0.482353</td>\n",
       "      <td>0.552941</td>\n",
       "      <td>0.466667</td>\n",
       "    </tr>\n",
       "    <tr>\n",
       "      <th>3</th>\n",
       "      <td>0.478431</td>\n",
       "      <td>0.549020</td>\n",
       "      <td>0.462745</td>\n",
       "    </tr>\n",
       "    <tr>\n",
       "      <th>4</th>\n",
       "      <td>0.490196</td>\n",
       "      <td>0.552941</td>\n",
       "      <td>0.466667</td>\n",
       "    </tr>\n",
       "  </tbody>\n",
       "</table>\n",
       "</div>"
      ],
      "text/plain": [
       "          0         1         2\n",
       "0  0.486275  0.556863  0.462745\n",
       "1  0.490196  0.556863  0.462745\n",
       "2  0.482353  0.552941  0.466667\n",
       "3  0.478431  0.549020  0.462745\n",
       "4  0.490196  0.552941  0.466667"
      ]
     },
     "execution_count": 9,
     "metadata": {},
     "output_type": "execute_result"
    }
   ],
   "source": [
    "tt1 = test1.transpose()\n",
    "tt1.head()\n"
   ]
  },
  {
   "cell_type": "code",
   "execution_count": 10,
   "metadata": {},
   "outputs": [
    {
     "data": {
      "text/html": [
       "<div>\n",
       "<style>\n",
       "    .dataframe thead tr:only-child th {\n",
       "        text-align: right;\n",
       "    }\n",
       "\n",
       "    .dataframe thead th {\n",
       "        text-align: left;\n",
       "    }\n",
       "\n",
       "    .dataframe tbody tr th {\n",
       "        vertical-align: top;\n",
       "    }\n",
       "</style>\n",
       "<table border=\"1\" class=\"dataframe\">\n",
       "  <thead>\n",
       "    <tr style=\"text-align: right;\">\n",
       "      <th></th>\n",
       "      <th>0</th>\n",
       "      <th>1</th>\n",
       "      <th>2</th>\n",
       "    </tr>\n",
       "  </thead>\n",
       "  <tbody>\n",
       "    <tr>\n",
       "      <th>0</th>\n",
       "      <td>0.494118</td>\n",
       "      <td>0.568627</td>\n",
       "      <td>0.545098</td>\n",
       "    </tr>\n",
       "    <tr>\n",
       "      <th>1</th>\n",
       "      <td>0.454902</td>\n",
       "      <td>0.533333</td>\n",
       "      <td>0.521569</td>\n",
       "    </tr>\n",
       "    <tr>\n",
       "      <th>2</th>\n",
       "      <td>0.466667</td>\n",
       "      <td>0.541176</td>\n",
       "      <td>0.533333</td>\n",
       "    </tr>\n",
       "    <tr>\n",
       "      <th>3</th>\n",
       "      <td>0.447059</td>\n",
       "      <td>0.521569</td>\n",
       "      <td>0.505882</td>\n",
       "    </tr>\n",
       "    <tr>\n",
       "      <th>4</th>\n",
       "      <td>0.372549</td>\n",
       "      <td>0.454902</td>\n",
       "      <td>0.435294</td>\n",
       "    </tr>\n",
       "  </tbody>\n",
       "</table>\n",
       "</div>"
      ],
      "text/plain": [
       "          0         1         2\n",
       "0  0.494118  0.568627  0.545098\n",
       "1  0.454902  0.533333  0.521569\n",
       "2  0.466667  0.541176  0.533333\n",
       "3  0.447059  0.521569  0.505882\n",
       "4  0.372549  0.454902  0.435294"
      ]
     },
     "execution_count": 10,
     "metadata": {},
     "output_type": "execute_result"
    }
   ],
   "source": [
    "tt2 = test2.transpose()\n",
    "tt2.head()"
   ]
  },
  {
   "cell_type": "code",
   "execution_count": 17,
   "metadata": {
    "collapsed": true
   },
   "outputs": [],
   "source": [
    "tf2 = tf2.rename(columns = {0:3,1:4,2:5}) \n",
    "tf3 = tf3.rename(columns = {0:6,1:7,2:8})\n",
    "tf4 = tf4.rename(columns = {0:9,1:10,2:11})"
   ]
  },
  {
   "cell_type": "code",
   "execution_count": 22,
   "metadata": {},
   "outputs": [
    {
     "data": {
      "text/html": [
       "<div>\n",
       "<style>\n",
       "    .dataframe thead tr:only-child th {\n",
       "        text-align: right;\n",
       "    }\n",
       "\n",
       "    .dataframe thead th {\n",
       "        text-align: left;\n",
       "    }\n",
       "\n",
       "    .dataframe tbody tr th {\n",
       "        vertical-align: top;\n",
       "    }\n",
       "</style>\n",
       "<table border=\"1\" class=\"dataframe\">\n",
       "  <thead>\n",
       "    <tr style=\"text-align: right;\">\n",
       "      <th></th>\n",
       "      <th>0</th>\n",
       "      <th>1</th>\n",
       "      <th>2</th>\n",
       "      <th>3</th>\n",
       "      <th>4</th>\n",
       "      <th>5</th>\n",
       "    </tr>\n",
       "  </thead>\n",
       "  <tbody>\n",
       "    <tr>\n",
       "      <th>0</th>\n",
       "      <td>0.600000</td>\n",
       "      <td>0.603922</td>\n",
       "      <td>0.556863</td>\n",
       "      <td>0.600000</td>\n",
       "      <td>0.603922</td>\n",
       "      <td>0.556863</td>\n",
       "    </tr>\n",
       "    <tr>\n",
       "      <th>1</th>\n",
       "      <td>0.654902</td>\n",
       "      <td>0.588235</td>\n",
       "      <td>0.490196</td>\n",
       "      <td>0.654902</td>\n",
       "      <td>0.588235</td>\n",
       "      <td>0.490196</td>\n",
       "    </tr>\n",
       "    <tr>\n",
       "      <th>2</th>\n",
       "      <td>0.815686</td>\n",
       "      <td>0.756863</td>\n",
       "      <td>0.654902</td>\n",
       "      <td>0.815686</td>\n",
       "      <td>0.756863</td>\n",
       "      <td>0.654902</td>\n",
       "    </tr>\n",
       "    <tr>\n",
       "      <th>3</th>\n",
       "      <td>0.674510</td>\n",
       "      <td>0.658824</td>\n",
       "      <td>0.596078</td>\n",
       "      <td>0.674510</td>\n",
       "      <td>0.658824</td>\n",
       "      <td>0.596078</td>\n",
       "    </tr>\n",
       "    <tr>\n",
       "      <th>4</th>\n",
       "      <td>0.768627</td>\n",
       "      <td>0.741176</td>\n",
       "      <td>0.666667</td>\n",
       "      <td>0.768627</td>\n",
       "      <td>0.741176</td>\n",
       "      <td>0.666667</td>\n",
       "    </tr>\n",
       "  </tbody>\n",
       "</table>\n",
       "</div>"
      ],
      "text/plain": [
       "          0         1         2         3         4         5\n",
       "0  0.600000  0.603922  0.556863  0.600000  0.603922  0.556863\n",
       "1  0.654902  0.588235  0.490196  0.654902  0.588235  0.490196\n",
       "2  0.815686  0.756863  0.654902  0.815686  0.756863  0.654902\n",
       "3  0.674510  0.658824  0.596078  0.674510  0.658824  0.596078\n",
       "4  0.768627  0.741176  0.666667  0.768627  0.741176  0.666667"
      ]
     },
     "execution_count": 22,
     "metadata": {},
     "output_type": "execute_result"
    }
   ],
   "source": [
    "tf1_new.head()"
   ]
  },
  {
   "cell_type": "code",
   "execution_count": 13,
   "metadata": {
    "collapsed": true
   },
   "outputs": [],
   "source": [
    "tf1_new = tf1"
   ]
  },
  {
   "cell_type": "code",
   "execution_count": 23,
   "metadata": {},
   "outputs": [
    {
     "data": {
      "text/html": [
       "<div>\n",
       "<style>\n",
       "    .dataframe thead tr:only-child th {\n",
       "        text-align: right;\n",
       "    }\n",
       "\n",
       "    .dataframe thead th {\n",
       "        text-align: left;\n",
       "    }\n",
       "\n",
       "    .dataframe tbody tr th {\n",
       "        vertical-align: top;\n",
       "    }\n",
       "</style>\n",
       "<table border=\"1\" class=\"dataframe\">\n",
       "  <thead>\n",
       "    <tr style=\"text-align: right;\">\n",
       "      <th></th>\n",
       "      <th>0</th>\n",
       "      <th>1</th>\n",
       "      <th>2</th>\n",
       "      <th>3</th>\n",
       "      <th>4</th>\n",
       "      <th>5</th>\n",
       "    </tr>\n",
       "  </thead>\n",
       "  <tbody>\n",
       "    <tr>\n",
       "      <th>0</th>\n",
       "      <td>0.600000</td>\n",
       "      <td>0.603922</td>\n",
       "      <td>0.556863</td>\n",
       "      <td>0.600000</td>\n",
       "      <td>0.603922</td>\n",
       "      <td>0.556863</td>\n",
       "    </tr>\n",
       "    <tr>\n",
       "      <th>1</th>\n",
       "      <td>0.654902</td>\n",
       "      <td>0.588235</td>\n",
       "      <td>0.490196</td>\n",
       "      <td>0.654902</td>\n",
       "      <td>0.588235</td>\n",
       "      <td>0.490196</td>\n",
       "    </tr>\n",
       "    <tr>\n",
       "      <th>2</th>\n",
       "      <td>0.815686</td>\n",
       "      <td>0.756863</td>\n",
       "      <td>0.654902</td>\n",
       "      <td>0.815686</td>\n",
       "      <td>0.756863</td>\n",
       "      <td>0.654902</td>\n",
       "    </tr>\n",
       "    <tr>\n",
       "      <th>3</th>\n",
       "      <td>0.674510</td>\n",
       "      <td>0.658824</td>\n",
       "      <td>0.596078</td>\n",
       "      <td>0.674510</td>\n",
       "      <td>0.658824</td>\n",
       "      <td>0.596078</td>\n",
       "    </tr>\n",
       "    <tr>\n",
       "      <th>4</th>\n",
       "      <td>0.768627</td>\n",
       "      <td>0.741176</td>\n",
       "      <td>0.666667</td>\n",
       "      <td>0.768627</td>\n",
       "      <td>0.741176</td>\n",
       "      <td>0.666667</td>\n",
       "    </tr>\n",
       "  </tbody>\n",
       "</table>\n",
       "</div>"
      ],
      "text/plain": [
       "          0         1         2         3         4         5\n",
       "0  0.600000  0.603922  0.556863  0.600000  0.603922  0.556863\n",
       "1  0.654902  0.588235  0.490196  0.654902  0.588235  0.490196\n",
       "2  0.815686  0.756863  0.654902  0.815686  0.756863  0.654902\n",
       "3  0.674510  0.658824  0.596078  0.674510  0.658824  0.596078\n",
       "4  0.768627  0.741176  0.666667  0.768627  0.741176  0.666667"
      ]
     },
     "execution_count": 23,
     "metadata": {},
     "output_type": "execute_result"
    }
   ],
   "source": [
    "tf1_new.head()"
   ]
  },
  {
   "cell_type": "code",
   "execution_count": 24,
   "metadata": {},
   "outputs": [],
   "source": [
    "tf1_new[6] = tf3[6]\n",
    "tf1_new[7] = tf3[7]\n",
    "tf1_new[8] = tf3[8]\n",
    "tf1_new[9] = tf4[9]\n",
    "tf1_new[10] = tf4[10]\n",
    "tf1_new[11] = tf4[11]"
   ]
  },
  {
   "cell_type": "code",
   "execution_count": 39,
   "metadata": {
    "collapsed": true
   },
   "outputs": [],
   "source": []
  },
  {
   "cell_type": "code",
   "execution_count": 40,
   "metadata": {
    "collapsed": true
   },
   "outputs": [],
   "source": []
  },
  {
   "cell_type": "code",
   "execution_count": 25,
   "metadata": {},
   "outputs": [
    {
     "data": {
      "text/html": [
       "<div>\n",
       "<style>\n",
       "    .dataframe thead tr:only-child th {\n",
       "        text-align: right;\n",
       "    }\n",
       "\n",
       "    .dataframe thead th {\n",
       "        text-align: left;\n",
       "    }\n",
       "\n",
       "    .dataframe tbody tr th {\n",
       "        vertical-align: top;\n",
       "    }\n",
       "</style>\n",
       "<table border=\"1\" class=\"dataframe\">\n",
       "  <thead>\n",
       "    <tr style=\"text-align: right;\">\n",
       "      <th></th>\n",
       "      <th>0</th>\n",
       "      <th>1</th>\n",
       "      <th>2</th>\n",
       "      <th>3</th>\n",
       "      <th>4</th>\n",
       "      <th>5</th>\n",
       "      <th>6</th>\n",
       "      <th>7</th>\n",
       "      <th>8</th>\n",
       "      <th>9</th>\n",
       "      <th>10</th>\n",
       "      <th>11</th>\n",
       "    </tr>\n",
       "  </thead>\n",
       "  <tbody>\n",
       "    <tr>\n",
       "      <th>0</th>\n",
       "      <td>0.600000</td>\n",
       "      <td>0.603922</td>\n",
       "      <td>0.556863</td>\n",
       "      <td>0.600000</td>\n",
       "      <td>0.603922</td>\n",
       "      <td>0.556863</td>\n",
       "      <td>0.600000</td>\n",
       "      <td>0.603922</td>\n",
       "      <td>0.556863</td>\n",
       "      <td>0.600000</td>\n",
       "      <td>0.603922</td>\n",
       "      <td>0.556863</td>\n",
       "    </tr>\n",
       "    <tr>\n",
       "      <th>1</th>\n",
       "      <td>0.654902</td>\n",
       "      <td>0.588235</td>\n",
       "      <td>0.490196</td>\n",
       "      <td>0.654902</td>\n",
       "      <td>0.588235</td>\n",
       "      <td>0.490196</td>\n",
       "      <td>0.654902</td>\n",
       "      <td>0.588235</td>\n",
       "      <td>0.490196</td>\n",
       "      <td>0.654902</td>\n",
       "      <td>0.588235</td>\n",
       "      <td>0.490196</td>\n",
       "    </tr>\n",
       "    <tr>\n",
       "      <th>2</th>\n",
       "      <td>0.815686</td>\n",
       "      <td>0.756863</td>\n",
       "      <td>0.654902</td>\n",
       "      <td>0.815686</td>\n",
       "      <td>0.756863</td>\n",
       "      <td>0.654902</td>\n",
       "      <td>0.815686</td>\n",
       "      <td>0.756863</td>\n",
       "      <td>0.654902</td>\n",
       "      <td>0.815686</td>\n",
       "      <td>0.756863</td>\n",
       "      <td>0.654902</td>\n",
       "    </tr>\n",
       "    <tr>\n",
       "      <th>3</th>\n",
       "      <td>0.674510</td>\n",
       "      <td>0.658824</td>\n",
       "      <td>0.596078</td>\n",
       "      <td>0.674510</td>\n",
       "      <td>0.658824</td>\n",
       "      <td>0.596078</td>\n",
       "      <td>0.674510</td>\n",
       "      <td>0.658824</td>\n",
       "      <td>0.596078</td>\n",
       "      <td>0.674510</td>\n",
       "      <td>0.658824</td>\n",
       "      <td>0.596078</td>\n",
       "    </tr>\n",
       "    <tr>\n",
       "      <th>4</th>\n",
       "      <td>0.768627</td>\n",
       "      <td>0.741176</td>\n",
       "      <td>0.666667</td>\n",
       "      <td>0.768627</td>\n",
       "      <td>0.741176</td>\n",
       "      <td>0.666667</td>\n",
       "      <td>0.768627</td>\n",
       "      <td>0.741176</td>\n",
       "      <td>0.666667</td>\n",
       "      <td>0.768627</td>\n",
       "      <td>0.741176</td>\n",
       "      <td>0.666667</td>\n",
       "    </tr>\n",
       "  </tbody>\n",
       "</table>\n",
       "</div>"
      ],
      "text/plain": [
       "         0         1         2         3         4         5         6   \\\n",
       "0  0.600000  0.603922  0.556863  0.600000  0.603922  0.556863  0.600000   \n",
       "1  0.654902  0.588235  0.490196  0.654902  0.588235  0.490196  0.654902   \n",
       "2  0.815686  0.756863  0.654902  0.815686  0.756863  0.654902  0.815686   \n",
       "3  0.674510  0.658824  0.596078  0.674510  0.658824  0.596078  0.674510   \n",
       "4  0.768627  0.741176  0.666667  0.768627  0.741176  0.666667  0.768627   \n",
       "\n",
       "         7         8         9         10        11  \n",
       "0  0.603922  0.556863  0.600000  0.603922  0.556863  \n",
       "1  0.588235  0.490196  0.654902  0.588235  0.490196  \n",
       "2  0.756863  0.654902  0.815686  0.756863  0.654902  \n",
       "3  0.658824  0.596078  0.674510  0.658824  0.596078  \n",
       "4  0.741176  0.666667  0.768627  0.741176  0.666667  "
      ]
     },
     "execution_count": 25,
     "metadata": {},
     "output_type": "execute_result"
    }
   ],
   "source": [
    "tf1_new.head()"
   ]
  },
  {
   "cell_type": "code",
   "execution_count": 42,
   "metadata": {
    "collapsed": true
   },
   "outputs": [],
   "source": [
    "#### tf1_new = train_data and we can take here any one test data, here we are taking tt1"
   ]
  },
  {
   "cell_type": "code",
   "execution_count": 26,
   "metadata": {},
   "outputs": [
    {
     "data": {
      "text/plain": [
       "(1024, 12)"
      ]
     },
     "execution_count": 26,
     "metadata": {},
     "output_type": "execute_result"
    }
   ],
   "source": [
    "tf1_new.shape"
   ]
  },
  {
   "cell_type": "code",
   "execution_count": 27,
   "metadata": {},
   "outputs": [
    {
     "data": {
      "text/plain": [
       "(1024, 3)"
      ]
     },
     "execution_count": 27,
     "metadata": {},
     "output_type": "execute_result"
    }
   ],
   "source": [
    "tt1.shape"
   ]
  },
  {
   "cell_type": "code",
   "execution_count": 28,
   "metadata": {
    "collapsed": true
   },
   "outputs": [],
   "source": [
    "X_numpy = tf1_new.values\n",
    "Y_numpy = tt1.values"
   ]
  },
  {
   "cell_type": "code",
   "execution_count": 29,
   "metadata": {
    "collapsed": true
   },
   "outputs": [],
   "source": [
    "model = linear_regressor.fit(X_numpy, Y_numpy)\n",
    "Y_pred = linear_regressor.predict(X_numpy)"
   ]
  },
  {
   "cell_type": "code",
   "execution_count": 30,
   "metadata": {},
   "outputs": [
    {
     "data": {
      "text/plain": [
       "array([[0.55435747, 0.59895146, 0.5731715 ],\n",
       "       [0.46717733, 0.49370012, 0.4501742 ],\n",
       "       [0.52698606, 0.5804788 , 0.54852855],\n",
       "       ...,\n",
       "       [0.20371717, 0.23480996, 0.14055812],\n",
       "       [0.1887502 , 0.2255288 , 0.12862957],\n",
       "       [0.18933672, 0.2345086 , 0.1378268 ]], dtype=float32)"
      ]
     },
     "execution_count": 30,
     "metadata": {},
     "output_type": "execute_result"
    }
   ],
   "source": [
    "Y_pred"
   ]
  },
  {
   "cell_type": "code",
   "execution_count": 31,
   "metadata": {},
   "outputs": [
    {
     "data": {
      "text/plain": [
       "(1024, 3)"
      ]
     },
     "execution_count": 31,
     "metadata": {},
     "output_type": "execute_result"
    }
   ],
   "source": [
    "Y_pred.shape"
   ]
  },
  {
   "cell_type": "code",
   "execution_count": 32,
   "metadata": {},
   "outputs": [
    {
     "data": {
      "text/plain": [
       "(1024, 3)"
      ]
     },
     "execution_count": 32,
     "metadata": {},
     "output_type": "execute_result"
    }
   ],
   "source": [
    "Y_numpy.shape"
   ]
  },
  {
   "cell_type": "code",
   "execution_count": 33,
   "metadata": {},
   "outputs": [
    {
     "data": {
      "text/plain": [
       "array([0.40563482, 0.33979043, 0.28457057], dtype=float32)"
      ]
     },
     "execution_count": 33,
     "metadata": {},
     "output_type": "execute_result"
    }
   ],
   "source": [
    "model.intercept_"
   ]
  },
  {
   "cell_type": "code",
   "execution_count": 34,
   "metadata": {},
   "outputs": [
    {
     "data": {
      "text/plain": [
       "array([[ -3.6269627,  30.772423 ,  36.099155 ,   3.7329376, -62.503082 ,\n",
       "        -55.23947  ,   6.0418825,  25.760666 ,  16.58706  ,  -5.5216265,\n",
       "          3.3427992,   4.9947953],\n",
       "       [  1.3456798,  40.66253  ,  18.89556  ,  15.0626335, -77.53498  ,\n",
       "        -51.53382  , -37.470318 ,  35.526207 ,  55.93579  ,  20.538652 ,\n",
       "          1.206632 , -22.116825 ],\n",
       "       [ -0.4862509,  40.913815 ,  25.86675  ,  18.40992  , -82.02519  ,\n",
       "        -61.648903 , -39.045246 ,  42.078552 ,  57.473255 ,  20.660944 ,\n",
       "         -1.4982067, -20.10062  ]], dtype=float32)"
      ]
     },
     "execution_count": 34,
     "metadata": {},
     "output_type": "execute_result"
    }
   ],
   "source": [
    "model.coef_"
   ]
  },
  {
   "cell_type": "code",
   "execution_count": 35,
   "metadata": {},
   "outputs": [
    {
     "name": "stdout",
     "output_type": "stream",
     "text": [
      "0.12416151\n"
     ]
    }
   ],
   "source": [
    "import sklearn\n",
    "from sklearn import metrics\n",
    "import numpy as np\n",
    "test_rmse= np.sqrt(metrics.mean_squared_error(Y_pred,Y_numpy))\n",
    "print(test_rmse)"
   ]
  },
  {
   "cell_type": "code",
   "execution_count": 36,
   "metadata": {},
   "outputs": [
    {
     "data": {
      "text/plain": [
       "array([[0., 0., 0.],\n",
       "       [0., 0., 0.],\n",
       "       [0., 0., 0.],\n",
       "       ...,\n",
       "       [0., 0., 0.],\n",
       "       [0., 0., 0.],\n",
       "       [0., 0., 0.]], dtype=float32)"
      ]
     },
     "execution_count": 36,
     "metadata": {},
     "output_type": "execute_result"
    }
   ],
   "source": [
    "cutoff = 0.6\n",
    "y_pred_classes = np.zeros_like(Y_pred)\n",
    "y_pred_classes[Y_pred > cutoff] = 1\n",
    "\n",
    "y_pred_classes"
   ]
  },
  {
   "cell_type": "code",
   "execution_count": 37,
   "metadata": {},
   "outputs": [
    {
     "data": {
      "text/plain": [
       "array([[0., 0., 0.],\n",
       "       [0., 0., 0.],\n",
       "       [0., 0., 0.],\n",
       "       ...,\n",
       "       [0., 0., 0.],\n",
       "       [0., 0., 0.],\n",
       "       [0., 0., 0.]], dtype=float32)"
      ]
     },
     "execution_count": 37,
     "metadata": {},
     "output_type": "execute_result"
    }
   ],
   "source": [
    "y_test_classes = np.zeros_like(Y_numpy)\n",
    "y_test_classes[Y_numpy > cutoff] = 1\n",
    "\n",
    "y_test_classes"
   ]
  },
  {
   "cell_type": "code",
   "execution_count": 38,
   "metadata": {
    "collapsed": true
   },
   "outputs": [],
   "source": [
    "y_pred_classes_df=pd.DataFrame(y_pred_classes)\n",
    "y_test_classes_df=pd.DataFrame(y_test_classes)"
   ]
  },
  {
   "cell_type": "code",
   "execution_count": 39,
   "metadata": {},
   "outputs": [
    {
     "name": "stdout",
     "output_type": "stream",
     "text": [
      "0    167\n",
      "1    167\n",
      "2    167\n",
      "dtype: int64\n"
     ]
    }
   ],
   "source": [
    "pattern_count_test = y_test_classes_df[(y_test_classes_df[0]== 0) & (y_test_classes_df[1] == 0) & (y_test_classes_df[2] == 0)].count()\n",
    "\n",
    "y_test_classes_df.rename(columns = {0:'R', 1:'G',2:'B'}, inplace = True)\n",
    "\n",
    "\n",
    "print(pattern_count_test)"
   ]
  },
  {
   "cell_type": "code",
   "execution_count": 40,
   "metadata": {},
   "outputs": [
    {
     "data": {
      "text/plain": [
       "array([[981,   8],\n",
       "       [ 33,   2]], dtype=int64)"
      ]
     },
     "execution_count": 40,
     "metadata": {},
     "output_type": "execute_result"
    }
   ],
   "source": [
    "from sklearn.metrics import confusion_matrix\n",
    "cm = confusion_matrix(y_pred_classes.argmax(axis=1), y_test_classes.argmax(axis=1))\n",
    "cm"
   ]
  },
  {
   "cell_type": "code",
   "execution_count": 41,
   "metadata": {},
   "outputs": [
    {
     "data": {
      "image/png": "[encoded data removed]",
      "text/plain": [
       "<Figure size 288x288 with 2 Axes>"
      ]
     },
     "metadata": {},
     "output_type": "display_data"
    }
   ],
   "source": [
    "plt.matshow(cm)\n",
    "plt.title('Confusion matrix')\n",
    "plt.colorbar()\n",
    "plt.ylabel('True label')\n",
    "plt.xlabel('Predicted label')\n",
    "plt.show()"
   ]
  },
  {
   "cell_type": "code",
   "execution_count": 43,
   "metadata": {
    "collapsed": true
   },
   "outputs": [],
   "source": [
    "import os.path\n",
    "import numpy as np\n",
    "from PIL import Image\n",
    "\n",
    "len(y_pred_classes.shape)\n",
    "\n",
    "#img = Image.fromarray(Y_pred2, 'RGB')\n",
    "final_image_array = np.resize(Y_pred,(32,32,3))\n",
    "\n",
    "img = Image.fromarray(final_image_array, 'RGB')\n",
    "img.show()"
   ]
  },
  {
   "cell_type": "code",
   "execution_count": null,
   "metadata": {
    "collapsed": true
   },
   "outputs": [],
   "source": [
    "#### learning curve#######"
   ]
  },
  {
   "cell_type": "code",
   "execution_count": 44,
   "metadata": {
    "collapsed": true
   },
   "outputs": [],
   "source": [
    "from sklearn.linear_model import Ridge\n",
    "from sklearn.model_selection import validation_curve\n",
    "train_scores, valid_scores = validation_curve(Ridge(), y_test_classes, y_pred_classes, \"alpha\",np.logspace(-7, 3, 3),cv=5)"
   ]
  },
  {
   "cell_type": "code",
   "execution_count": 45,
   "metadata": {},
   "outputs": [
    {
     "data": {
      "text/plain": [
       "array([[0.50906348, 0.50831812, 0.51022577, 0.53216082, 0.54997983],\n",
       "       [0.50906338, 0.50831811, 0.51022576, 0.53216082, 0.54997982],\n",
       "       [0.15308917, 0.14696704, 0.13596391, 0.15312406, 0.15811785]])"
      ]
     },
     "execution_count": 45,
     "metadata": {},
     "output_type": "execute_result"
    }
   ],
   "source": [
    "train_scores"
   ]
  },
  {
   "cell_type": "code",
   "execution_count": 46,
   "metadata": {},
   "outputs": [
    {
     "data": {
      "text/plain": [
       "array([[ 0.4145497 ,  0.55050664,  0.48522006,  0.44476128,  0.3291103 ],\n",
       "       [ 0.41495262,  0.55055586,  0.48522956,  0.44476431,  0.32919017],\n",
       "       [-0.03844633,  0.1095675 ,  0.01301001,  0.12610419,  0.04269883]])"
      ]
     },
     "execution_count": 46,
     "metadata": {},
     "output_type": "execute_result"
    }
   ],
   "source": [
    "valid_scores"
   ]
  },
  {
   "cell_type": "code",
   "execution_count": 47,
   "metadata": {
    "collapsed": true
   },
   "outputs": [],
   "source": [
    "train_scores_mean = np.mean(train_scores, axis=1)\n",
    "train_scores_std = np.std(train_scores, axis=1)\n",
    "valid_scores_mean = np.mean(valid_scores, axis=1)\n",
    "valid_scores_std = np.std(valid_scores, axis=1)"
   ]
  },
  {
   "cell_type": "code",
   "execution_count": 48,
   "metadata": {},
   "outputs": [
    {
     "data": {
      "image/png": "[encoded data removed]",
      "text/plain": [
       "<Figure size 432x288 with 1 Axes>"
      ]
     },
     "metadata": {},
     "output_type": "display_data"
    },
    {
     "data": {
      "image/png": "[encoded data removed]",
      "text/plain": [
       "<Figure size 432x288 with 1 Axes>"
      ]
     },
     "metadata": {},
     "output_type": "display_data"
    }
   ],
   "source": [
    "param_range = np.arange(1,3,5)\n",
    "plt.fill_between(param_range, train_scores_mean - train_scores_std, train_scores_mean + train_scores_std, color=\"gray\")\n",
    "plt.show()\n",
    "plt.fill_between(param_range, valid_scores_mean - valid_scores_std, valid_scores_mean + valid_scores_std, color=\"gainsboro\")\n",
    "plt.show()"
   ]
  },
  {
   "cell_type": "code",
   "execution_count": 49,
   "metadata": {},
   "outputs": [
    {
     "data": {
      "text/plain": [
       "0.4061188688872375"
      ]
     },
     "execution_count": 49,
     "metadata": {},
     "output_type": "execute_result"
    }
   ],
   "source": [
    "from sklearn.metrics import r2_score\n",
    "r2_score(y_test_classes,y_pred_classes)"
   ]
  },
  {
   "cell_type": "code",
   "execution_count": null,
   "metadata": {
    "collapsed": true
   },
   "outputs": [],
   "source": []
  }
 ],
 "metadata": {
  "kernelspec": {
   "display_name": "Python 3",
   "language": "python",
   "name": "python3"
  },
  "language_info": {
   "codemirror_mode": {
    "name": "ipython",
    "version": 3
   },
   "file_extension": ".py",
   "mimetype": "text/x-python",
   "name": "python",
   "nbconvert_exporter": "python",
   "pygments_lexer": "ipython3",
   "version": "3.6.3"
  }
 },
 "nbformat": 4,
 "nbformat_minor": 2
}
